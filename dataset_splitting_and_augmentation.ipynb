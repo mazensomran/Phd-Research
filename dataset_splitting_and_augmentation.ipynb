{
  "nbformat": 4,
  "nbformat_minor": 0,
  "metadata": {
    "colab": {
      "provenance": [],
      "mount_file_id": "1hxRnXVMSHEkdEo9_vmfbF5BzSJrMnMvO",
      "authorship_tag": "ABX9TyPugSU+eEeisiyFqiwLVLe9"
    },
    "kernelspec": {
      "name": "python3",
      "display_name": "Python 3"
    },
    "language_info": {
      "name": "python"
    }
  },
  "cells": [
    {
      "cell_type": "code",
      "execution_count": null,
      "metadata": {
        "id": "w_nDL7oq9YET"
      },
      "outputs": [],
      "source": [
        "import cv2\n",
        "import os"
      ]
    },
    {
      "cell_type": "markdown",
      "source": [
        "#Splitting augmented data into train and test dataset"
      ],
      "metadata": {
        "id": "KYM73bBNzyP5"
      }
    },
    {
      "cell_type": "code",
      "source": [
        "import random\n",
        "test_img = []\n",
        "data_paths = ['/content/drive/MyDrive/augmented_leather_def1/', '/content/drive/MyDrive/augmented_leather_good1/']\n",
        "\n",
        "for path in data_paths :\n",
        "    for i in range(70): # iterate through each file\n",
        "        image = random.sample(os.listdir(path),1)\n",
        "        test_img.append(image)\n",
        "        input_img = cv2.imread(path + image[0])  # Read images\n",
        "        cv2.imwrite(\"/content/drive/MyDrive/augmented_leather_test1/\" + image[0], input_img)\n",
        "for path in data_paths :\n",
        "    for img in os.listdir(path):\n",
        "        if  img not in os.listdir(\"/content/drive/MyDrive/augmented_leather_test1/\"):\n",
        "            input_img1 = cv2.imread(path + img)\n",
        "            cv2.imwrite(\"/content/drive/MyDrive/augmented_leather_train1/\"+ img, input_img1)\n",
        "\n",
        "print(len(os.listdir('/content/drive/MyDrive/augmented_leather_test1/')))\n",
        "print(len(os.listdir('/content/drive/MyDrive/augmented_leather_train1/')))\n"
      ],
      "metadata": {
        "id": "RLnKCR8LD-AU",
        "colab": {
          "base_uri": "https://localhost:8080/"
        },
        "outputId": "e9c4123b-554b-47c2-f475-c6fe740e9f55"
      },
      "execution_count": null,
      "outputs": [
        {
          "output_type": "stream",
          "name": "stdout",
          "text": [
            "124\n",
            "642\n"
          ]
        }
      ]
    },
    {
      "cell_type": "markdown",
      "source": [
        "#Geometrical transltions for dataset *defected* images (rotation and flipping)"
      ],
      "metadata": {
        "id": "ksjsxrvgEBlt"
      }
    },
    {
      "cell_type": "code",
      "source": [
        "path1 = '/content/drive/MyDrive/train/'\n",
        "for img in os.listdir(path1):\n",
        "  image = cv2.imread(path1 + img)\n",
        "  img_r_90 = cv2.rotate(image, cv2.ROTATE_90_CLOCKWISE)\n",
        "  img_r_180 = cv2.rotate(image, cv2.ROTATE_180)\n",
        "  #img_r_270 = cv2.rotate(image, cv2.ROTATE_90_COUNTERCLOCKWISE)\n",
        "  #img_flip_V = cv2.flip(image,0)\n",
        "  img_flip_H = cv2.flip(image,1)\n",
        "  img_flip_B = cv2.flip(image,-1)\n",
        "\n",
        "  cv2.imwrite('/content/drive/MyDrive/augmented_tile_train1/' + img.split('.')[0][:3]+\".png\",image)\n",
        "  cv2.imwrite('/content/drive/MyDrive/augmented_tile_train1/' + img.split('.')[0][:3]+\"r90.png\",img_r_90)\n",
        "  cv2.imwrite('/content/drive/MyDrive/augmented_tile_train1/' + img.split('.')[0][:3]+\"r180.png\",img_r_180)\n",
        "  #cv2.imwrite('/content/drive/MyDrive/augmented_data/Defr270' + img,img_r_270)\n",
        "  #cv2.imwrite('/content/drive/MyDrive/augmented_data/DefflpV' + img,img_flip_V)\n",
        "  cv2.imwrite('/content/drive/MyDrive/augmented_tile_train1/' + img.split('.')[0][:3]+\"flpH.png\",img_flip_H)\n",
        "  cv2.imwrite('/content/drive/MyDrive/augmented_tile_train1/' + img.split('.')[0][:3]+\"flpB.png\",img_flip_B)\n",
        "\n",
        "print(len(os.listdir('/content/drive/MyDrive/augmented_tile_train1/')))\n"
      ],
      "metadata": {
        "id": "detsvB-A9kFl",
        "colab": {
          "base_uri": "https://localhost:8080/"
        },
        "outputId": "7311ad70-e51f-42c5-e819-ed3d4d4b149c"
      },
      "execution_count": null,
      "outputs": [
        {
          "output_type": "stream",
          "name": "stdout",
          "text": [
            "1075\n"
          ]
        }
      ]
    },
    {
      "cell_type": "code",
      "source": [
        "path2 = '/content/drive/MyDrive/test/'\n",
        "for img in os.listdir(path2):\n",
        "  image = cv2.imread(path2 + img)\n",
        "  img_r_90 = cv2.rotate(image, cv2.ROTATE_90_CLOCKWISE)\n",
        "  img_r_180 = cv2.rotate(image, cv2.ROTATE_180)\n",
        "  #img_r_270 = cv2.rotate(image, cv2.ROTATE_90_COUNTERCLOCKWISE)\n",
        "  #img_flip_V = cv2.flip(image,0)\n",
        "  img_flip_H = cv2.flip(image,1)\n",
        "  img_flip_B = cv2.flip(image,-1)\n",
        "\n",
        "  cv2.imwrite('/content/drive/MyDrive/augmented_tile_test1/' + img.split('.')[0]+\".png\",image)\n",
        "  cv2.imwrite('/content/drive/MyDrive/augmented_tile_test1/' + img.split('.')[0]+\"r90.png\",img_r_90)\n",
        "  cv2.imwrite('/content/drive/MyDrive/augmented_tile_test1/' + img.split('.')[0]+\"r180.png\",img_r_180)\n",
        "  #cv2.imwrite('/content/drive/MyDrive/augmented_data/Defr270' + img,img_r_270)\n",
        "  #cv2.imwrite('/content/drive/MyDrive/augmented_data/DefflpV' + img,img_flip_V)\n",
        "  cv2.imwrite('/content/drive/MyDrive/augmented_tile_test1/' + img.split('.')[0]+\"flpH.png\",img_flip_H)\n",
        "  cv2.imwrite('/content/drive/MyDrive/augmented_tile_test1/' + img.split('.')[0]+\"flpB.png\",img_flip_B)\n",
        "\n",
        "print(len(os.listdir('/content/drive/MyDrive/augmented_tile_test1/')))"
      ],
      "metadata": {
        "colab": {
          "base_uri": "https://localhost:8080/"
        },
        "id": "BrfwU0DZnqht",
        "outputId": "bf99d6a2-998c-4695-e029-db13672febaf"
      },
      "execution_count": null,
      "outputs": [
        {
          "output_type": "stream",
          "name": "stdout",
          "text": [
            "190\n"
          ]
        }
      ]
    },
    {
      "cell_type": "code",
      "source": [
        "print(len(os.listdir('/content/drive/MyDrive/augmented_tile_test1/')))"
      ],
      "metadata": {
        "colab": {
          "base_uri": "https://localhost:8080/"
        },
        "id": "p-BXqC_7mpbV",
        "outputId": "1c4931e1-e4f4-46b1-ae1b-046cedf4317b"
      },
      "execution_count": null,
      "outputs": [
        {
          "output_type": "stream",
          "name": "stdout",
          "text": [
            "190\n"
          ]
        }
      ]
    },
    {
      "cell_type": "markdown",
      "source": [
        "#Geometrical transltions for dataset masks (rotation and flipping)"
      ],
      "metadata": {
        "id": "cKW0dCnGEXwG"
      }
    },
    {
      "cell_type": "code",
      "source": [
        "path1 = '/content/drive/MyDrive/leather_masks_210/'\n",
        "for img in os.listdir(path1):\n",
        "  image = cv2.imread(path1 + img)\n",
        "  img_r_90 = cv2.rotate(image, cv2.ROTATE_90_CLOCKWISE)\n",
        "  #img_r_180 = cv2.rotate(image, cv2.ROTATE_180)\n",
        "  #img_r_270 = cv2.rotate(image, cv2.ROTATE_90_COUNTERCLOCKWISE)\n",
        "  #img_flip_V = cv2.flip(image,0)\n",
        "  img_flip_H = cv2.flip(image,1)\n",
        "  #img_flip_B = cv2.flip(image,-1)\n",
        "\n",
        "  cv2.imwrite('/content/drive/MyDrive/augmented_leather_masks1/Def' + img,image)\n",
        "  cv2.imwrite('/content/drive/MyDrive/augmented_leather_masks1/Defr90' + img,img_r_90)\n",
        "  #cv2.imwrite('/content/drive/MyDrive/augmented_masks1/Defr180' + img,img_r_180)\n",
        "  #cv2.imwrite('/content/drive/MyDrive/augmented_masks/Defr270' + img,img_r_270)\n",
        "  #cv2.imwrite('/content/drive/MyDrive/augmented_masks/DefflpV' + img,img_flip_V)\n",
        "  cv2.imwrite('/content/drive/MyDrive/augmented_leather_masks1/DefflpH' + img,img_flip_H)\n",
        "  #cv2.imwrite('/content/drive/MyDrive/augmented_masks/DefflpB' + img,img_flip_B)\n",
        "print(len(os.listdir('/content/drive/MyDrive/augmented_leather_masks1/')))"
      ],
      "metadata": {
        "id": "SSuFuUt9DxHm",
        "colab": {
          "base_uri": "https://localhost:8080/"
        },
        "outputId": "cb97918d-3169-401c-fca2-fb3000180555"
      },
      "execution_count": null,
      "outputs": [
        {
          "output_type": "stream",
          "name": "stdout",
          "text": [
            "276\n"
          ]
        }
      ]
    },
    {
      "cell_type": "markdown",
      "source": [
        "#Geometrical transltions for dataset normal data (flip_Both_V_H)"
      ],
      "metadata": {
        "id": "MVZL1o58FKCg"
      }
    },
    {
      "cell_type": "code",
      "source": [
        "path3 = '/content/drive/MyDrive/leather_good_210/'\n",
        "for img in os.listdir(path3):\n",
        "  image = cv2.imread(path3 + img)\n",
        "  img_r_90 = cv2.rotate(image, cv2.ROTATE_90_CLOCKWISE)\n",
        "  img_flip_B = cv2.flip(image,-1)\n",
        "  cv2.imwrite('/content/drive/MyDrive/augmented_leather_good/' + img,image)\n",
        "  cv2.imwrite('/content/drive/MyDrive/augmented_leather_good/r90' + img,img_r_90)\n",
        "  cv2.imwrite('/content/drive/MyDrive/augmented_leather_good/flpB' + img,img_flip_B)\n"
      ],
      "metadata": {
        "id": "ifHXLeeaD5qE"
      },
      "execution_count": null,
      "outputs": []
    },
    {
      "cell_type": "code",
      "source": [
        "len(os.listdir('/content/drive/MyDrive/augmented_leather_good/'))"
      ],
      "metadata": {
        "id": "vEXbjEXfjQBs",
        "colab": {
          "base_uri": "https://localhost:8080/"
        },
        "outputId": "ec7deb78-6266-41c5-9d65-9d1521efb643"
      },
      "execution_count": null,
      "outputs": [
        {
          "output_type": "execute_result",
          "data": {
            "text/plain": [
              "735"
            ]
          },
          "metadata": {},
          "execution_count": 3
        }
      ]
    },
    {
      "cell_type": "code",
      "source": [
        "print(len(os.listdir('/content/drive/MyDrive/augmented_leather_def1/')))"
      ],
      "metadata": {
        "colab": {
          "base_uri": "https://localhost:8080/"
        },
        "id": "8Q4cHLP-OGA9",
        "outputId": "4058df52-c537-4908-fb9c-e6beeca1993d"
      },
      "execution_count": null,
      "outputs": [
        {
          "output_type": "stream",
          "name": "stdout",
          "text": [
            "276\n"
          ]
        }
      ]
    }
  ]
}