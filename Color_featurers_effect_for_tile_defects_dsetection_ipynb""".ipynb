{
  "nbformat": 4,
  "nbformat_minor": 0,
  "metadata": {
    "colab": {
      "provenance": [],
      "mount_file_id": "1oONv4QFMk3Zm-_NNoW-uAmzZVfcCsTt9",
      "authorship_tag": "ABX9TyNhbKq6veaJjyFvfgNCl8+8"
    },
    "kernelspec": {
      "name": "python3",
      "display_name": "Python 3"
    },
    "language_info": {
      "name": "python"
    }
  },
  "cells": [
    {
      "cell_type": "markdown",
      "source": [
        "#Import packages and libraries"
      ],
      "metadata": {
        "id": "0w064jt6zMZe"
      }
    },
    {
      "cell_type": "code",
      "execution_count": null,
      "metadata": {
        "id": "Yb3Tkp30y-UU"
      },
      "outputs": [],
      "source": [
        "import cv2\n",
        "import pandas as pd\n",
        "import numpy as np\n",
        "import os\n",
        "from skimage.filters import roberts, sobel, scharr, prewitt\n",
        "from scipy import ndimage as nd\n",
        "import time\n",
        "from sklearn import metrics\n",
        "import matplotlib.pyplot as plt\n",
        "from sklearn.metrics import PrecisionRecallDisplay\n",
        "import pickle\n",
        "from sklearn.ensemble import RandomForestClassifier"
      ]
    },
    {
      "cell_type": "markdown",
      "source": [
        "#Paths' files"
      ],
      "metadata": {
        "id": "h2u85HH4zifn"
      }
    },
    {
      "cell_type": "code",
      "source": [
        "train_path = \"/content/drive/MyDrive/augmented_train1/\"\n",
        "test_path = \"/content/drive/MyDrive/augmented_test1/\"\n",
        "mask_path =\"/content/drive/MyDrive/augmented_masks1/\""
      ],
      "metadata": {
        "id": "ZOVubkayzhpe"
      },
      "execution_count": null,
      "outputs": []
    },
    {
      "cell_type": "markdown",
      "source": [
        "#Features extraction function"
      ],
      "metadata": {
        "id": "0DZeQbo6z49F"
      }
    },
    {
      "cell_type": "code",
      "source": [
        "def feature_extractor(path,mask_path):\n",
        "    Dataset = pd.DataFrame()\n",
        "    i =1 # for monitoring the operation process\n",
        "    for image in os.listdir(path):  # iterate through each file\n",
        "        #print(i)\n",
        "        df = pd.DataFrame()\n",
        "        if image.split('.')[0][:3] == 'Def': # first three letters of each defect type\n",
        "            mask1 = cv2.imread(mask_path + image)\n",
        "            mask1 = cv2.cvtColor(mask1, cv2.COLOR_BGR2GRAY)\n",
        "            ret,bi_mask = cv2.threshold(mask1,192,255,cv2.THRESH_BINARY)\n",
        "            mask = cv2.resize(bi_mask, (150, 150))//255 #to make the classes confined between 1 and 0 only for each pixel\n",
        "            df[\"label\"] = mask.reshape(-1) # the label of each defected tile images is its binary mask\n",
        "        else:\n",
        "            df[\"label\"] = np.zeros((150, 150)).reshape(-1) #if the image not for defected tile its label is (0)\n",
        "\n",
        "        input_img = cv2.imread(path + image)  # Read images\n",
        "\n",
        "        img = cv2.resize(input_img,(150, 150))\n",
        "        blue_channel, green_channel, red_channel = cv2.split(img)\n",
        "\n",
        "        # تحويل الصورة إلى مساحة لونية HSV\n",
        "        hsv_image = cv2.cvtColor(img, cv2.COLOR_BGR2HSV)\n",
        "        h_channel, s_channel, v_channel = cv2.split(hsv_image)\n",
        "        # تحويل الصورة إلى مساحة لونية LAB\n",
        "        lab_image = cv2.cvtColor(img, cv2.COLOR_BGR2LAB)\n",
        "        l_channel, a_channel, b_channel = cv2.split(lab_image)\n",
        "\n",
        "        img = cv2.cvtColor(input_img, cv2.COLOR_BGR2GRAY)\n",
        "        pixel_values = img.reshape(-1)/255.0\n",
        "        df['Pixel_Value'] = pd.DataFrame(pixel_values)\n",
        "\n",
        "        blue_channel = blue_channel.reshape(-1)/255.0\n",
        "        df['blue_channel'] = pd.DataFrame(blue_channel)\n",
        "\n",
        "        green_channel = green_channel.reshape(-1)/255.0\n",
        "        df['green_channel'] = pd.DataFrame(green_channel)\n",
        "\n",
        "        red_channel = red_channel.reshape(-1)/255.0\n",
        "        df['red_channel'] = pd.DataFrame(red_channel)\n",
        "\n",
        "        h_channel = h_channel.reshape(-1)/255.0\n",
        "        df['h_channel'] = pd.DataFrame(h_channel)\n",
        "\n",
        "        s_channel = s_channel.reshape(-1)/255.0\n",
        "        df['s_channel'] = pd.DataFrame(s_channel)\n",
        "\n",
        "        v_channel = v_channel.reshape(-1)/255.0\n",
        "        df['v_channel'] = pd.DataFrame(v_channel)\n",
        "\n",
        "        l_channel = l_channel.reshape(-1)/255.0\n",
        "        df['l_channel'] = pd.DataFrame(l_channel)\n",
        "\n",
        "        a_channel = a_channel.reshape(-1)/255.0\n",
        "        df['a_channel'] = pd.DataFrame(a_channel)\n",
        "\n",
        "        b_channel = b_channel.reshape(-1)/255.0\n",
        "        df['b_channel'] = pd.DataFrame(b_channel)\n",
        "\n",
        "        print(i)\n",
        "        i += 1  #Increment for gabor column label\n",
        "\n",
        "\n",
        "        Dataset = pd.concat([Dataset,df])\n",
        "\n",
        "    return Dataset"
      ],
      "metadata": {
        "id": "nXHxWY2Kz3Ig"
      },
      "execution_count": null,
      "outputs": []
    },
    {
      "cell_type": "markdown",
      "source": [
        "#Extracting training set"
      ],
      "metadata": {
        "id": "1R7dGzPu1nkg"
      }
    },
    {
      "cell_type": "code",
      "source": [
        "Training_data= feature_extractor(train_path,mask_path)\n"
      ],
      "metadata": {
        "id": "-VuIvEZ50Ltc"
      },
      "execution_count": null,
      "outputs": []
    },
    {
      "cell_type": "code",
      "source": [
        "Training_data.to_csv(r'/content/drive/MyDrive/Colab Notebooks/Gabor_Leather_def_data2.csv', index=False)"
      ],
      "metadata": {
        "id": "di9iiyZV9zIE"
      },
      "execution_count": null,
      "outputs": []
    },
    {
      "cell_type": "code",
      "source": [
        "Training_data = pd.read_csv('/content/drive/MyDrive/Colab Notebooks/Gabor_Leather_def_data.csv')"
      ],
      "metadata": {
        "id": "C7nYdw_vzIqx"
      },
      "execution_count": null,
      "outputs": []
    },
    {
      "cell_type": "code",
      "source": [
        "#Training_data = Training_data[Training_data.label != 0]\n",
        "X_train= Training_data[['Pixel_Value',\n",
        " 's_channel',\n",
        " 'blue_channel',\n",
        " 'h_channel'\n",
        "]]\n",
        "X_train.info()\n",
        "#Scaling training set if needed\n",
        "'''from sklearn import preprocessing\n",
        "min_max_scaler = preprocessing.MinMaxScaler()\n",
        "X_train = min_max_scaler.fit_transform(X_train)'''\n",
        "\n",
        "y_train = Training_data['label'].values"
      ],
      "metadata": {
        "id": "qaWEBGEzFnbd",
        "colab": {
          "base_uri": "https://localhost:8080/"
        },
        "outputId": "1d807030-0db5-4c23-e163-fc8f54f18104"
      },
      "execution_count": null,
      "outputs": [
        {
          "output_type": "stream",
          "name": "stdout",
          "text": [
            "<class 'pandas.core.frame.DataFrame'>\n",
            "Int64Index: 11047500 entries, 0 to 22499\n",
            "Data columns (total 4 columns):\n",
            " #   Column        Dtype  \n",
            "---  ------        -----  \n",
            " 0   Pixel_Value   float64\n",
            " 1   s_channel     float64\n",
            " 2   blue_channel  float64\n",
            " 3   h_channel     float64\n",
            "dtypes: float64(4)\n",
            "memory usage: 421.4 MB\n"
          ]
        }
      ]
    },
    {
      "cell_type": "code",
      "source": [
        "X_train.head()"
      ],
      "metadata": {
        "colab": {
          "base_uri": "https://localhost:8080/",
          "height": 206
        },
        "id": "9mew99d6FTEY",
        "outputId": "368eb0b9-f10b-415f-dd5d-c761b0c7bd4b"
      },
      "execution_count": null,
      "outputs": [
        {
          "output_type": "execute_result",
          "data": {
            "text/plain": [
              "   s_channel  blue_channel\n",
              "0   0.078431      0.325490\n",
              "1   0.035294      0.329412\n",
              "2   0.050980      0.298039\n",
              "3   0.047059      0.325490\n",
              "4   0.015686      0.454902"
            ],
            "text/html": [
              "\n",
              "\n",
              "  <div id=\"df-03224d3c-4a90-48ec-a056-7a975a8530b4\">\n",
              "    <div class=\"colab-df-container\">\n",
              "      <div>\n",
              "<style scoped>\n",
              "    .dataframe tbody tr th:only-of-type {\n",
              "        vertical-align: middle;\n",
              "    }\n",
              "\n",
              "    .dataframe tbody tr th {\n",
              "        vertical-align: top;\n",
              "    }\n",
              "\n",
              "    .dataframe thead th {\n",
              "        text-align: right;\n",
              "    }\n",
              "</style>\n",
              "<table border=\"1\" class=\"dataframe\">\n",
              "  <thead>\n",
              "    <tr style=\"text-align: right;\">\n",
              "      <th></th>\n",
              "      <th>s_channel</th>\n",
              "      <th>blue_channel</th>\n",
              "    </tr>\n",
              "  </thead>\n",
              "  <tbody>\n",
              "    <tr>\n",
              "      <th>0</th>\n",
              "      <td>0.078431</td>\n",
              "      <td>0.325490</td>\n",
              "    </tr>\n",
              "    <tr>\n",
              "      <th>1</th>\n",
              "      <td>0.035294</td>\n",
              "      <td>0.329412</td>\n",
              "    </tr>\n",
              "    <tr>\n",
              "      <th>2</th>\n",
              "      <td>0.050980</td>\n",
              "      <td>0.298039</td>\n",
              "    </tr>\n",
              "    <tr>\n",
              "      <th>3</th>\n",
              "      <td>0.047059</td>\n",
              "      <td>0.325490</td>\n",
              "    </tr>\n",
              "    <tr>\n",
              "      <th>4</th>\n",
              "      <td>0.015686</td>\n",
              "      <td>0.454902</td>\n",
              "    </tr>\n",
              "  </tbody>\n",
              "</table>\n",
              "</div>\n",
              "      <button class=\"colab-df-convert\" onclick=\"convertToInteractive('df-03224d3c-4a90-48ec-a056-7a975a8530b4')\"\n",
              "              title=\"Convert this dataframe to an interactive table.\"\n",
              "              style=\"display:none;\">\n",
              "\n",
              "  <svg xmlns=\"http://www.w3.org/2000/svg\" height=\"24px\"viewBox=\"0 0 24 24\"\n",
              "       width=\"24px\">\n",
              "    <path d=\"M0 0h24v24H0V0z\" fill=\"none\"/>\n",
              "    <path d=\"M18.56 5.44l.94 2.06.94-2.06 2.06-.94-2.06-.94-.94-2.06-.94 2.06-2.06.94zm-11 1L8.5 8.5l.94-2.06 2.06-.94-2.06-.94L8.5 2.5l-.94 2.06-2.06.94zm10 10l.94 2.06.94-2.06 2.06-.94-2.06-.94-.94-2.06-.94 2.06-2.06.94z\"/><path d=\"M17.41 7.96l-1.37-1.37c-.4-.4-.92-.59-1.43-.59-.52 0-1.04.2-1.43.59L10.3 9.45l-7.72 7.72c-.78.78-.78 2.05 0 2.83L4 21.41c.39.39.9.59 1.41.59.51 0 1.02-.2 1.41-.59l7.78-7.78 2.81-2.81c.8-.78.8-2.07 0-2.86zM5.41 20L4 18.59l7.72-7.72 1.47 1.35L5.41 20z\"/>\n",
              "  </svg>\n",
              "      </button>\n",
              "\n",
              "\n",
              "\n",
              "    <div id=\"df-35a35102-feb5-4f26-a3f7-5797642fb350\">\n",
              "      <button class=\"colab-df-quickchart\" onclick=\"quickchart('df-35a35102-feb5-4f26-a3f7-5797642fb350')\"\n",
              "              title=\"Suggest charts.\"\n",
              "              style=\"display:none;\">\n",
              "\n",
              "<svg xmlns=\"http://www.w3.org/2000/svg\" height=\"24px\"viewBox=\"0 0 24 24\"\n",
              "     width=\"24px\">\n",
              "    <g>\n",
              "        <path d=\"M19 3H5c-1.1 0-2 .9-2 2v14c0 1.1.9 2 2 2h14c1.1 0 2-.9 2-2V5c0-1.1-.9-2-2-2zM9 17H7v-7h2v7zm4 0h-2V7h2v10zm4 0h-2v-4h2v4z\"/>\n",
              "    </g>\n",
              "</svg>\n",
              "      </button>\n",
              "    </div>\n",
              "\n",
              "<style>\n",
              "  .colab-df-quickchart {\n",
              "    background-color: #E8F0FE;\n",
              "    border: none;\n",
              "    border-radius: 50%;\n",
              "    cursor: pointer;\n",
              "    display: none;\n",
              "    fill: #1967D2;\n",
              "    height: 32px;\n",
              "    padding: 0 0 0 0;\n",
              "    width: 32px;\n",
              "  }\n",
              "\n",
              "  .colab-df-quickchart:hover {\n",
              "    background-color: #E2EBFA;\n",
              "    box-shadow: 0px 1px 2px rgba(60, 64, 67, 0.3), 0px 1px 3px 1px rgba(60, 64, 67, 0.15);\n",
              "    fill: #174EA6;\n",
              "  }\n",
              "\n",
              "  [theme=dark] .colab-df-quickchart {\n",
              "    background-color: #3B4455;\n",
              "    fill: #D2E3FC;\n",
              "  }\n",
              "\n",
              "  [theme=dark] .colab-df-quickchart:hover {\n",
              "    background-color: #434B5C;\n",
              "    box-shadow: 0px 1px 3px 1px rgba(0, 0, 0, 0.15);\n",
              "    filter: drop-shadow(0px 1px 2px rgba(0, 0, 0, 0.3));\n",
              "    fill: #FFFFFF;\n",
              "  }\n",
              "</style>\n",
              "\n",
              "    <script>\n",
              "      async function quickchart(key) {\n",
              "        const containerElement = document.querySelector('#' + key);\n",
              "        const charts = await google.colab.kernel.invokeFunction(\n",
              "            'suggestCharts', [key], {});\n",
              "      }\n",
              "    </script>\n",
              "\n",
              "      <script>\n",
              "\n",
              "function displayQuickchartButton(domScope) {\n",
              "  let quickchartButtonEl =\n",
              "    domScope.querySelector('#df-35a35102-feb5-4f26-a3f7-5797642fb350 button.colab-df-quickchart');\n",
              "  quickchartButtonEl.style.display =\n",
              "    google.colab.kernel.accessAllowed ? 'block' : 'none';\n",
              "}\n",
              "\n",
              "        displayQuickchartButton(document);\n",
              "      </script>\n",
              "      <style>\n",
              "    .colab-df-container {\n",
              "      display:flex;\n",
              "      flex-wrap:wrap;\n",
              "      gap: 12px;\n",
              "    }\n",
              "\n",
              "    .colab-df-convert {\n",
              "      background-color: #E8F0FE;\n",
              "      border: none;\n",
              "      border-radius: 50%;\n",
              "      cursor: pointer;\n",
              "      display: none;\n",
              "      fill: #1967D2;\n",
              "      height: 32px;\n",
              "      padding: 0 0 0 0;\n",
              "      width: 32px;\n",
              "    }\n",
              "\n",
              "    .colab-df-convert:hover {\n",
              "      background-color: #E2EBFA;\n",
              "      box-shadow: 0px 1px 2px rgba(60, 64, 67, 0.3), 0px 1px 3px 1px rgba(60, 64, 67, 0.15);\n",
              "      fill: #174EA6;\n",
              "    }\n",
              "\n",
              "    [theme=dark] .colab-df-convert {\n",
              "      background-color: #3B4455;\n",
              "      fill: #D2E3FC;\n",
              "    }\n",
              "\n",
              "    [theme=dark] .colab-df-convert:hover {\n",
              "      background-color: #434B5C;\n",
              "      box-shadow: 0px 1px 3px 1px rgba(0, 0, 0, 0.15);\n",
              "      filter: drop-shadow(0px 1px 2px rgba(0, 0, 0, 0.3));\n",
              "      fill: #FFFFFF;\n",
              "    }\n",
              "  </style>\n",
              "\n",
              "      <script>\n",
              "        const buttonEl =\n",
              "          document.querySelector('#df-03224d3c-4a90-48ec-a056-7a975a8530b4 button.colab-df-convert');\n",
              "        buttonEl.style.display =\n",
              "          google.colab.kernel.accessAllowed ? 'block' : 'none';\n",
              "\n",
              "        async function convertToInteractive(key) {\n",
              "          const element = document.querySelector('#df-03224d3c-4a90-48ec-a056-7a975a8530b4');\n",
              "          const dataTable =\n",
              "            await google.colab.kernel.invokeFunction('convertToInteractive',\n",
              "                                                     [key], {});\n",
              "          if (!dataTable) return;\n",
              "\n",
              "          const docLinkHtml = 'Like what you see? Visit the ' +\n",
              "            '<a target=\"_blank\" href=https://colab.research.google.com/notebooks/data_table.ipynb>data table notebook</a>'\n",
              "            + ' to learn more about interactive tables.';\n",
              "          element.innerHTML = '';\n",
              "          dataTable['output_type'] = 'display_data';\n",
              "          await google.colab.output.renderOutput(dataTable, element);\n",
              "          const docLink = document.createElement('div');\n",
              "          docLink.innerHTML = docLinkHtml;\n",
              "          element.appendChild(docLink);\n",
              "        }\n",
              "      </script>\n",
              "    </div>\n",
              "  </div>\n"
            ]
          },
          "metadata": {},
          "execution_count": 16
        }
      ]
    },
    {
      "cell_type": "code",
      "source": [
        "np.unique(y_train)"
      ],
      "metadata": {
        "id": "AMxTeFYOH4cW",
        "colab": {
          "base_uri": "https://localhost:8080/"
        },
        "outputId": "6b6a5448-47fc-4aac-d0f7-92d76b62b032"
      },
      "execution_count": null,
      "outputs": [
        {
          "output_type": "execute_result",
          "data": {
            "text/plain": [
              "array([0., 1.])"
            ]
          },
          "metadata": {},
          "execution_count": 17
        }
      ]
    },
    {
      "cell_type": "markdown",
      "source": [],
      "metadata": {
        "id": "io9DZM9uFnFN"
      }
    },
    {
      "cell_type": "markdown",
      "source": [
        "#Training the model"
      ],
      "metadata": {
        "id": "cgDyyP9N2wqg"
      }
    },
    {
      "cell_type": "code",
      "source": [
        "RF_model = RandomForestClassifier()\n",
        "#Calculating training time\n",
        "t0 = time.time()\n",
        "RF_model.fit(X_train,y_train)\n",
        "Training_time = time.time()-t0\n",
        "print(\"Training_time\", Training_time)"
      ],
      "metadata": {
        "id": "eI0jYj8A16dz",
        "colab": {
          "base_uri": "https://localhost:8080/"
        },
        "outputId": "74e3ef5d-93d6-4eb6-93a1-1c2c69e71ffc"
      },
      "execution_count": null,
      "outputs": [
        {
          "output_type": "stream",
          "name": "stdout",
          "text": [
            "Training_time 3219.540654182434\n"
          ]
        }
      ]
    },
    {
      "cell_type": "markdown",
      "source": [
        "#Estimating each feature importance with sorting"
      ],
      "metadata": {
        "id": "25N7OMnF3GxQ"
      }
    },
    {
      "cell_type": "code",
      "source": [
        "Feature_importance = {}\n",
        "for score, name in zip(RF_model.feature_importances_, X_train.columns):\n",
        "  Feature_importance[name] = round(score, 2)\n",
        "sorted_Feature_importance = {k: v for k, v in sorted(Feature_importance.items(), key=lambda item: item[1],reverse=True)}\n",
        "sorted_Feature_importance"
      ],
      "metadata": {
        "id": "wkBe-24S3MG7",
        "colab": {
          "base_uri": "https://localhost:8080/"
        },
        "outputId": "71c053e9-f08e-461b-9155-7d7e7c9ff623"
      },
      "execution_count": null,
      "outputs": [
        {
          "output_type": "execute_result",
          "data": {
            "text/plain": [
              "{'s_channel': 0.64, 'blue_channel': 0.25, 'h_channel': 0.11}"
            ]
          },
          "metadata": {},
          "execution_count": 39
        }
      ]
    },
    {
      "cell_type": "code",
      "source": [
        "import xgboost as xgb"
      ],
      "metadata": {
        "id": "XhrbqgphhArF"
      },
      "execution_count": null,
      "outputs": []
    },
    {
      "cell_type": "code",
      "source": [
        "params = {\n",
        "    'max_depth': 3,\n",
        "    'eta': 0.1,\n",
        "    'objective': 'binary:logistic'\n",
        "}"
      ],
      "metadata": {
        "id": "HJ-1f6QXhCMz"
      },
      "execution_count": null,
      "outputs": []
    },
    {
      "cell_type": "code",
      "source": [
        "XGB_model = xgb.XGBClassifier(**params)"
      ],
      "metadata": {
        "id": "LzIUQskdhWNF"
      },
      "execution_count": null,
      "outputs": []
    },
    {
      "cell_type": "code",
      "source": [
        "t0 = time.time()\n",
        "XGB_model.fit(X_train, y_train)\n",
        "Training_time = time.time()-t0\n",
        "print(\"Training_time\", Training_time)"
      ],
      "metadata": {
        "id": "-Oo5n60bhclj",
        "colab": {
          "base_uri": "https://localhost:8080/"
        },
        "outputId": "09e605be-93f4-483d-ef26-0c0ebcaa801d"
      },
      "execution_count": null,
      "outputs": [
        {
          "output_type": "stream",
          "name": "stdout",
          "text": [
            "Training_time 436.9192593097687\n"
          ]
        }
      ]
    },
    {
      "cell_type": "code",
      "source": [
        "Feature_importance = {}\n",
        "for score, name in zip(XGB_model.feature_importances_, X_train.columns):\n",
        "  Feature_importance[name] = round(score, 2)\n",
        "sorted_Feature_importance = {k: v for k, v in sorted(Feature_importance.items(), key=lambda item: item[1],reverse=True)}\n",
        "sorted_Feature_importance"
      ],
      "metadata": {
        "id": "S1IPo84ohpqy",
        "colab": {
          "base_uri": "https://localhost:8080/"
        },
        "outputId": "86d83a1f-f8b3-4710-cdad-bd22017df692"
      },
      "execution_count": null,
      "outputs": [
        {
          "output_type": "execute_result",
          "data": {
            "text/plain": [
              "{'s_channel': 0.67, 'blue_channel': 0.18, 'h_channel': 0.15}"
            ]
          },
          "metadata": {},
          "execution_count": 41
        }
      ]
    },
    {
      "cell_type": "code",
      "source": [
        "import lightgbm as lgb"
      ],
      "metadata": {
        "id": "mG0HVWbuoVYx"
      },
      "execution_count": null,
      "outputs": []
    },
    {
      "cell_type": "code",
      "source": [
        "params = {\n",
        "    'objective': 'binary',\n",
        "    'metric': 'binary_logloss',\n",
        "    'boosting': 'gbdt',\n",
        "    'num_leaves': 31,\n",
        "    'learning_rate': 0.05,\n",
        "    'feature_fraction': 0.9,\n",
        "    'bagging_fraction': 0.8,\n",
        "    'bagging_freq': 5,\n",
        "    'verbose': 0\n",
        "}\n",
        "\n",
        "train_data = lgb.Dataset(X_train, label=y_train)\n",
        "t0 = time.time()\n",
        "LGB_model = lgb.train(params, train_data, num_boost_round=100)\n",
        "Training_time = time.time()-t0\n",
        "print(\"Training_time\", Training_time)"
      ],
      "metadata": {
        "id": "6N_VAOoDoW8h",
        "colab": {
          "base_uri": "https://localhost:8080/"
        },
        "outputId": "84f077b8-19ce-4607-aa28-caffdd0f2e99"
      },
      "execution_count": null,
      "outputs": [
        {
          "output_type": "stream",
          "name": "stdout",
          "text": [
            "[LightGBM] [Warning] Auto-choosing col-wise multi-threading, the overhead of testing was 0.622657 seconds.\n",
            "You can set `force_col_wise=true` to remove the overhead.\n",
            "Training_time 179.51299667358398\n"
          ]
        }
      ]
    },
    {
      "cell_type": "code",
      "source": [
        "# Get feature importances\n",
        "feature_importance = LGB_model.feature_importance()\n",
        "\n",
        "# Get feature names\n",
        "feature_names = LGB_model.feature_name()\n",
        "\n",
        "# Create a feature importance dataframe\n",
        "feature_importance_df = pd.DataFrame({'Feature': feature_names, 'Importance': feature_importance})\n",
        "\n",
        "# Sort the features by importance in descending order\n",
        "feature_importance_df = feature_importance_df.sort_values(by='Importance', ascending=False)\n",
        "\n",
        "# Print the feature importance\n",
        "print(feature_importance_df)"
      ],
      "metadata": {
        "id": "cUPgJrXHpRdT",
        "colab": {
          "base_uri": "https://localhost:8080/"
        },
        "outputId": "35b802a0-3dba-4eff-f928-4492d1628acc"
      },
      "execution_count": null,
      "outputs": [
        {
          "output_type": "stream",
          "name": "stdout",
          "text": [
            "        Feature  Importance\n",
            "3     h_channel        1018\n",
            "2  blue_channel         937\n",
            "1     s_channel         731\n",
            "0   Pixel_Value         314\n"
          ]
        }
      ]
    },
    {
      "cell_type": "code",
      "source": [
        "!pip install catboost"
      ],
      "metadata": {
        "id": "_sdbIQ-brzmQ",
        "colab": {
          "base_uri": "https://localhost:8080/"
        },
        "outputId": "e8db17e2-0520-4082-ed1b-b5de8d25e5cb"
      },
      "execution_count": null,
      "outputs": [
        {
          "output_type": "stream",
          "name": "stdout",
          "text": [
            "Collecting catboost\n",
            "  Downloading catboost-1.2-cp310-cp310-manylinux2014_x86_64.whl (98.6 MB)\n",
            "\u001b[2K     \u001b[90m━━━━━━━━━━━━━━━━━━━━━━━━━━━━━━━━━━━━━━━━\u001b[0m \u001b[32m98.6/98.6 MB\u001b[0m \u001b[31m10.5 MB/s\u001b[0m eta \u001b[36m0:00:00\u001b[0m\n",
            "\u001b[?25hRequirement already satisfied: graphviz in /usr/local/lib/python3.10/dist-packages (from catboost) (0.20.1)\n",
            "Requirement already satisfied: matplotlib in /usr/local/lib/python3.10/dist-packages (from catboost) (3.7.1)\n",
            "Requirement already satisfied: numpy>=1.16.0 in /usr/local/lib/python3.10/dist-packages (from catboost) (1.22.4)\n",
            "Requirement already satisfied: pandas>=0.24 in /usr/local/lib/python3.10/dist-packages (from catboost) (1.5.3)\n",
            "Requirement already satisfied: scipy in /usr/local/lib/python3.10/dist-packages (from catboost) (1.10.1)\n",
            "Requirement already satisfied: plotly in /usr/local/lib/python3.10/dist-packages (from catboost) (5.13.1)\n",
            "Requirement already satisfied: six in /usr/local/lib/python3.10/dist-packages (from catboost) (1.16.0)\n",
            "Requirement already satisfied: python-dateutil>=2.8.1 in /usr/local/lib/python3.10/dist-packages (from pandas>=0.24->catboost) (2.8.2)\n",
            "Requirement already satisfied: pytz>=2020.1 in /usr/local/lib/python3.10/dist-packages (from pandas>=0.24->catboost) (2022.7.1)\n",
            "Requirement already satisfied: contourpy>=1.0.1 in /usr/local/lib/python3.10/dist-packages (from matplotlib->catboost) (1.1.0)\n",
            "Requirement already satisfied: cycler>=0.10 in /usr/local/lib/python3.10/dist-packages (from matplotlib->catboost) (0.11.0)\n",
            "Requirement already satisfied: fonttools>=4.22.0 in /usr/local/lib/python3.10/dist-packages (from matplotlib->catboost) (4.41.1)\n",
            "Requirement already satisfied: kiwisolver>=1.0.1 in /usr/local/lib/python3.10/dist-packages (from matplotlib->catboost) (1.4.4)\n",
            "Requirement already satisfied: packaging>=20.0 in /usr/local/lib/python3.10/dist-packages (from matplotlib->catboost) (23.1)\n",
            "Requirement already satisfied: pillow>=6.2.0 in /usr/local/lib/python3.10/dist-packages (from matplotlib->catboost) (9.4.0)\n",
            "Requirement already satisfied: pyparsing>=2.3.1 in /usr/local/lib/python3.10/dist-packages (from matplotlib->catboost) (3.1.0)\n",
            "Requirement already satisfied: tenacity>=6.2.0 in /usr/local/lib/python3.10/dist-packages (from plotly->catboost) (8.2.2)\n",
            "Installing collected packages: catboost\n",
            "Successfully installed catboost-1.2\n"
          ]
        }
      ]
    },
    {
      "cell_type": "code",
      "source": [
        "from catboost import CatBoostClassifier"
      ],
      "metadata": {
        "id": "8RAJ8XAKrt-g"
      },
      "execution_count": null,
      "outputs": []
    },
    {
      "cell_type": "code",
      "source": [
        "CB_model = CatBoostClassifier()\n",
        "t0 = time.time()\n",
        "CB_model.fit(X_train, y_train)\n",
        "Training_time = time.time()-t0\n",
        "print(\"Training_time\", Training_time)"
      ],
      "metadata": {
        "id": "Pbyv7k8DsEO4"
      },
      "execution_count": null,
      "outputs": []
    },
    {
      "cell_type": "code",
      "source": [
        "Feature_importance = {}\n",
        "for score, name in zip(CB_model.feature_importances_, X_train.columns):\n",
        "  Feature_importance[name] = round(score, 2)\n",
        "sorted_Feature_importance = {k: v for k, v in sorted(Feature_importance.items(), key=lambda item: item[1],reverse=True)}\n",
        "sorted_Feature_importance"
      ],
      "metadata": {
        "id": "hfwGwvK8sJjo",
        "colab": {
          "base_uri": "https://localhost:8080/"
        },
        "outputId": "6c5ab544-5dec-4460-b257-682725815474"
      },
      "execution_count": null,
      "outputs": [
        {
          "output_type": "execute_result",
          "data": {
            "text/plain": [
              "{'blue_channel': 36.43,\n",
              " 'h_channel': 33.66,\n",
              " 's_channel': 25.52,\n",
              " 'Pixel_Value': 4.39}"
            ]
          },
          "metadata": {},
          "execution_count": 26
        }
      ]
    },
    {
      "cell_type": "markdown",
      "source": [
        "#Extracting testing data"
      ],
      "metadata": {
        "id": "-Gh_fSOU3PO7"
      }
    },
    {
      "cell_type": "code",
      "source": [
        "Testing_data = feature_extractor(test_path,mask_path)\n"
      ],
      "metadata": {
        "id": "PVXHgxD53W84"
      },
      "execution_count": null,
      "outputs": []
    },
    {
      "cell_type": "code",
      "source": [
        "#Testing_data = Testing_data[Testing_data.label != 0]\n",
        "X_test = Testing_data.drop(labels=['label'],axis = 1)\n",
        "\n",
        "y_test = Testing_data['label'].values"
      ],
      "metadata": {
        "id": "uAw1Y6OsoYBw"
      },
      "execution_count": null,
      "outputs": []
    },
    {
      "cell_type": "markdown",
      "source": [],
      "metadata": {
        "id": "7L19y9L0AonH"
      }
    },
    {
      "cell_type": "code",
      "source": [
        "model_name = \"RF_model\"\n",
        "pickle.dump(RF_model, open('/content/drive/MyDrive/Colab Notebooks/RF_Gabor1.pkl', 'wb'))"
      ],
      "metadata": {
        "id": "51UtqFWqe26d"
      },
      "execution_count": null,
      "outputs": []
    },
    {
      "cell_type": "code",
      "source": [
        "model_name = \"XGB_model\"\n",
        "pickle.dump(XGB_model, open('/content/drive/MyDrive/Colab Notebooks/XGB_Gabor1.pkl', 'wb'))"
      ],
      "metadata": {
        "id": "Dv35aQxhfAad"
      },
      "execution_count": null,
      "outputs": []
    },
    {
      "cell_type": "code",
      "source": [
        "model_name = \"SVM_model\"\n",
        "pickle.dump(LGB_model, open('/content/drive/MyDrive/Colab Notebooks/LGB_Gabor1.pkl', 'wb'))"
      ],
      "metadata": {
        "id": "6En6EquBfDJp"
      },
      "execution_count": null,
      "outputs": []
    },
    {
      "cell_type": "code",
      "source": [
        "model_name = \"CB_model\"\n",
        "pickle.dump(CB_model, open('/content/drive/MyDrive/Colab Notebooks/CB_Gabor1.pkl', 'wb'))"
      ],
      "metadata": {
        "id": "ooavj-JGfFSV"
      },
      "execution_count": null,
      "outputs": []
    },
    {
      "cell_type": "markdown",
      "source": [
        "#Estimating model metrics"
      ],
      "metadata": {
        "id": "YrGJ5OoZ3YQd"
      }
    },
    {
      "cell_type": "code",
      "source": [
        "test_prediction = RF_model.predict(X_test)\n",
        "print (\"Accuracy RF_model= \", metrics.accuracy_score(y_test, test_prediction))\n",
        "print (\"Precision RF_model= \", metrics.precision_score(y_test, test_prediction))\n",
        "print (\"Recall RF_model= \", metrics.recall_score(y_test, test_prediction))\n",
        "print (\"F1 Score RF_model= \", metrics.f1_score(y_test, test_prediction),\"\\n\")\n",
        "#Confusion matrix plotting\n",
        "confusion_matrix = metrics.confusion_matrix(y_test, test_prediction)\n",
        "cm_display = metrics.ConfusionMatrixDisplay(confusion_matrix = confusion_matrix, display_labels = [False, True])\n",
        "cm_display.plot()\n",
        "plt.show()\n",
        "#AUC curve plotting\n",
        "fpr, tpr, _ = metrics.roc_curve(y_test,  test_prediction)\n",
        "auc = metrics.roc_auc_score(y_test, test_prediction)\n",
        "plt.plot(fpr,tpr,label=\"AUC=\"+str(auc))\n",
        "plt.ylabel('True Positive Rate')\n",
        "plt.xlabel('False Positive Rate')\n",
        "plt.legend(loc=4)\n",
        "plt.show()\n",
        "#Precision - Recall curve plotting\n",
        "display = PrecisionRecallDisplay.from_estimator(\n",
        "  RF_model, X_test, y_test, name= \"RF_model\" )\n",
        "_ = display.ax_.set_title(\"2-class Precision-Recall curve\")"
      ],
      "metadata": {
        "colab": {
          "base_uri": "https://localhost:8080/",
          "height": 1000
        },
        "id": "6oV2Mt40eg9d",
        "outputId": "c4464ec1-46dc-4e03-a5c3-e9a6731bd115"
      },
      "execution_count": null,
      "outputs": [
        {
          "output_type": "stream",
          "name": "stdout",
          "text": [
            "Accuracy RF_model=  0.97184536271809\n",
            "Precision RF_model=  0.9127941004331032\n",
            "Recall RF_model=  0.39327892139969234\n",
            "F1 Score RF_model=  0.5497130302478455 \n",
            "\n"
          ]
        },
        {
          "output_type": "display_data",
          "data": {
            "text/plain": [
              "<Figure size 640x480 with 2 Axes>"
            ],
            "image/png": "[encoded data removed]"
          },
          "metadata": {}
        },
        {
          "output_type": "display_data",
          "data": {
            "text/plain": [
              "<Figure size 640x480 with 1 Axes>"
            ],
            "image/png": "[encoded data removed]"
          },
          "metadata": {}
        },
        {
          "output_type": "display_data",
          "data": {
            "text/plain": [
              "<Figure size 640x480 with 1 Axes>"
            ],
            "image/png": "[encoded data removed]"
          },
          "metadata": {}
        }
      ]
    },
    {
      "cell_type": "code",
      "source": [
        "test_prediction = XGB_model.predict(X_test)\n",
        "print (\"Accuracy XGB_model= \", metrics.accuracy_score(y_test, test_prediction))\n",
        "print (\"Precision XGB_model= \", metrics.precision_score(y_test, test_prediction))\n",
        "print (\"Recall XGB_model= \", metrics.recall_score(y_test, test_prediction))\n",
        "print (\"F1 Score XGB_model= \", metrics.f1_score(y_test, test_prediction),\"\\n\")\n",
        "#Confusion matrix plotting\n",
        "confusion_matrix = metrics.confusion_matrix(y_test, test_prediction)\n",
        "cm_display = metrics.ConfusionMatrixDisplay(confusion_matrix = confusion_matrix, display_labels = [False, True])\n",
        "cm_display.plot()\n",
        "plt.show()\n",
        "#AUC curve plotting\n",
        "fpr, tpr, _ = metrics.roc_curve(y_test,  test_prediction)\n",
        "auc = metrics.roc_auc_score(y_test, test_prediction)\n",
        "plt.plot(fpr,tpr,label=\"AUC=\"+str(auc))\n",
        "plt.ylabel('True Positive Rate')\n",
        "plt.xlabel('False Positive Rate')\n",
        "plt.legend(loc=4)\n",
        "plt.show()\n",
        "#Precision - Recall curve plotting\n",
        "display = PrecisionRecallDisplay.from_estimator(\n",
        "  XGB_model, X_test, y_test, name= \"XGB_model\" )\n",
        "_ = display.ax_.set_title(\"2-class Precision-Recall curve\")"
      ],
      "metadata": {
        "colab": {
          "base_uri": "https://localhost:8080/",
          "height": 1000
        },
        "id": "obnyIxeTeakO",
        "outputId": "7f24d63f-2ca7-42f3-ac0f-c435d430a70f"
      },
      "execution_count": null,
      "outputs": [
        {
          "output_type": "stream",
          "name": "stdout",
          "text": [
            "Accuracy XGB_model=  0.9703463728191001\n",
            "Precision XGB_model=  0.907722164167964\n",
            "Recall XGB_model=  0.35777387386630133\n",
            "F1 Score XGB_model=  0.5132521403593393 \n",
            "\n"
          ]
        },
        {
          "output_type": "display_data",
          "data": {
            "text/plain": [
              "<Figure size 640x480 with 2 Axes>"
            ],
            "image/png": "[encoded data removed]"
          },
          "metadata": {}
        },
        {
          "output_type": "display_data",
          "data": {
            "text/plain": [
              "<Figure size 640x480 with 1 Axes>"
            ],
            "image/png": "[encoded data removed]"
          },
          "metadata": {}
        },
        {
          "output_type": "display_data",
          "data": {
            "text/plain": [
              "<Figure size 640x480 with 1 Axes>"
            ],
            "image/png": "[encoded data removed]"
          },
          "metadata": {}
        }
      ]
    },
    {
      "cell_type": "code",
      "source": [
        "test_prediction = CB_model.predict(X_test)\n",
        "print (\"Accuracy CB_model= \", metrics.accuracy_score(y_test, test_prediction))\n",
        "print (\"Precision CB_model= \", metrics.precision_score(y_test, test_prediction))\n",
        "print (\"Recall CB_model= \", metrics.recall_score(y_test, test_prediction))\n",
        "print (\"F1 Score CB_model= \", metrics.f1_score(y_test, test_prediction),\"\\n\")\n",
        "#Confusion matrix plotting\n",
        "confusion_matrix = metrics.confusion_matrix(y_test, test_prediction)\n",
        "cm_display = metrics.ConfusionMatrixDisplay(confusion_matrix = confusion_matrix, display_labels = [False, True])\n",
        "cm_display.plot()\n",
        "plt.show()\n",
        "#AUC curve plotting\n",
        "fpr, tpr, _ = metrics.roc_curve(y_test,  test_prediction)\n",
        "auc = metrics.roc_auc_score(y_test, test_prediction)\n",
        "plt.plot(fpr,tpr,label=\"AUC=\"+str(auc))\n",
        "plt.ylabel('True Positive Rate')\n",
        "plt.xlabel('False Positive Rate')\n",
        "plt.legend(loc=4)\n",
        "plt.show()\n",
        "#Precision - Recall curve plotting\n",
        "display = PrecisionRecallDisplay.from_estimator(\n",
        "  CB_model, X_test, y_test, name= \"CB_model\" )\n",
        "_ = display.ax_.set_title(\"2-class Precision-Recall curve\")"
      ],
      "metadata": {
        "colab": {
          "base_uri": "https://localhost:8080/",
          "height": 1000
        },
        "id": "KS4PlVOiepId",
        "outputId": "d01dee3d-9a0b-48f9-ac7a-9d57a5c1c01e"
      },
      "execution_count": null,
      "outputs": [
        {
          "output_type": "stream",
          "name": "stdout",
          "text": [
            "Accuracy CB_model=  0.9710288337924702\n",
            "Precision CB_model=  0.9055325174471528\n",
            "Recall CB_model=  0.3762744916743017\n",
            "F1 Score CB_model=  0.5316382033680911 \n",
            "\n"
          ]
        },
        {
          "output_type": "display_data",
          "data": {
            "text/plain": [
              "<Figure size 640x480 with 2 Axes>"
            ],
            "image/png": "[encoded data removed]"
          },
          "metadata": {}
        },
        {
          "output_type": "display_data",
          "data": {
            "text/plain": [
              "<Figure size 640x480 with 1 Axes>"
            ],
            "image/png": "[encoded data removed]"
          },
          "metadata": {}
        },
        {
          "output_type": "display_data",
          "data": {
            "text/plain": [
              "<Figure size 640x480 with 1 Axes>"
            ],
            "image/png": "[encoded data removed]"
          },
          "metadata": {}
        }
      ]
    },
    {
      "cell_type": "code",
      "source": [
        "test_prediction = LGB_model.predict(X_test)\n",
        "y_pred_binary = (test_prediction > 0.5).astype(int)\n",
        "y_test_binary = y_test.astype(int)\n",
        "print (\"Accuracy LGB_model= \", metrics.accuracy_score(y_test_binary, y_pred_binary))\n",
        "print (\"Precision LGB_model= \", metrics.precision_score(y_test_binary, y_pred_binary))\n",
        "print (\"Recall LGB_model= \", metrics.recall_score(y_test_binary, y_pred_binary))\n",
        "print (\"F1 Score LGB_model= \", metrics.f1_score(y_test_binary, y_pred_binary),\"\\n\")\n",
        "#Confusion matrix plotting\n",
        "confusion_matrix = metrics.confusion_matrix(y_test_binary, y_pred_binary)\n",
        "cm_display = metrics.ConfusionMatrixDisplay(confusion_matrix = confusion_matrix, display_labels = [False, True])\n",
        "cm_display.plot()\n",
        "plt.show()\n",
        "#AUC curve plotting\n",
        "fpr, tpr, _ = metrics.roc_curve(y_test_binary,  y_pred_binary)\n",
        "auc = metrics.roc_auc_score(y_test_binary, y_pred_binary)\n",
        "plt.plot(fpr,tpr,label=\"AUC=\"+str(auc))\n",
        "plt.ylabel('True Positive Rate')\n",
        "plt.xlabel('False Positive Rate')\n",
        "plt.legend(loc=4)\n",
        "plt.show()\n",
        "#Precision - Recall curve plotting\n",
        "from sklearn.metrics import precision_recall_curve, average_precision_score\n",
        "precision, recall, thresholds = precision_recall_curve(y_test_binary, y_pred_binary)\n",
        "ap = average_precision_score(y_test_binary, y_pred_binary)\n",
        "print(\"Average Precision:\", ap)"
      ],
      "metadata": {
        "colab": {
          "base_uri": "https://localhost:8080/",
          "height": 984
        },
        "id": "efIgHqmwZpdT",
        "outputId": "055ca809-8264-4435-96cb-c6fc45b8632a"
      },
      "execution_count": null,
      "outputs": [
        {
          "output_type": "stream",
          "name": "stdout",
          "text": [
            "Accuracy LGB_model=  0.970732782369146\n",
            "Precision LGB_model=  0.9029227771510614\n",
            "Recall LGB_model=  0.37002916726205987\n",
            "F1 Score LGB_model=  0.5249338198468914 \n",
            "\n"
          ]
        },
        {
          "output_type": "display_data",
          "data": {
            "text/plain": [
              "<Figure size 640x480 with 2 Axes>"
            ],
            "image/png": "[encoded data removed]"
          },
          "metadata": {}
        },
        {
          "output_type": "display_data",
          "data": {
            "text/plain": [
              "<Figure size 640x480 with 1 Axes>"
            ],
            "image/png": "[encoded data removed]"
          },
          "metadata": {}
        }
      ]
    },
    {
      "cell_type": "code",
      "source": [
        "RF_features = {'cA': 0.19,\n",
        " 'cD': 0.13,\n",
        " 'magnitude_spectrum': 0.12,\n",
        " 'real_part': 0.12,\n",
        " 'imaginary_part': 0.12,\n",
        " 'cH': 0.12,\n",
        " 'cV': 0.12,\n",
        " 'Pixel_Value': 0.08}\n",
        "\n",
        "XGB_features ={'cA': 0.28,\n",
        " 'cD': 0.17,\n",
        " 'Pixel_Value': 0.14,\n",
        " 'cH': 0.11,\n",
        " 'cV': 0.1,\n",
        " 'magnitude_spectrum': 0.06,\n",
        " 'real_part': 0.06,\n",
        " 'imaginary_part': 0.06}\n",
        "\n",
        "LGB_features = {'cA'  : 0.30,\n",
        "'cV'  : 0.13,\n",
        "'cH' : 0.14,\n",
        "'Pixel_Value' : 0.10,\n",
        "'magnitude_spectrum' : 0.08,\n",
        "'real_part' : 0.06,\n",
        "'imaginary_part' : 0.07,\n",
        "'cD' : 0.12\n",
        "}\n",
        "CB_features = {'cA': 0.28,\n",
        " 'cH': 0.18,\n",
        " 'cV': 0.17,\n",
        " 'cD': 0.14,\n",
        " 'Pixel_Value': 0.07,\n",
        " 'magnitude_spectrum': 0.07,\n",
        " 'imaginary_part': 0.05,\n",
        " 'real_part': 0.04}\n"
      ],
      "metadata": {
        "id": "4a-ltQxYVq9W"
      },
      "execution_count": null,
      "outputs": []
    },
    {
      "cell_type": "code",
      "source": [
        "features_importantly = pd.DataFrame()\n",
        "features_importantly['XGB_features'] = XGB_features\n",
        "features_importantly['LGB_features'] = LGB_features\n",
        "features_importantly['RF_features'] = RF_features\n",
        "features_importantly['CB_features'] = CB_features"
      ],
      "metadata": {
        "id": "m4FS122zYAjX"
      },
      "execution_count": null,
      "outputs": []
    },
    {
      "cell_type": "code",
      "source": [
        "features_importantly"
      ],
      "metadata": {
        "colab": {
          "base_uri": "https://localhost:8080/",
          "height": 300
        },
        "id": "t1Ib7NgoY4H-",
        "outputId": "b0372923-cf35-4232-937f-f410b233351a"
      },
      "execution_count": null,
      "outputs": [
        {
          "output_type": "execute_result",
          "data": {
            "text/plain": [
              "                    XGB_features  LGB_features  RF_features  CB_features\n",
              "cA                          0.28          0.30         0.19         0.28\n",
              "cD                          0.17          0.12         0.13         0.14\n",
              "Pixel_Value                 0.14          0.10         0.08         0.07\n",
              "cH                          0.11          0.14         0.12         0.18\n",
              "cV                          0.10          0.13         0.12         0.17\n",
              "magnitude_spectrum          0.06          0.08         0.12         0.07\n",
              "real_part                   0.06          0.06         0.12         0.04\n",
              "imaginary_part              0.06          0.07         0.12         0.05"
            ],
            "text/html": [
              "\n",
              "\n",
              "  <div id=\"df-2c526cdd-bc67-40b8-8e7d-27f2c9305388\">\n",
              "    <div class=\"colab-df-container\">\n",
              "      <div>\n",
              "<style scoped>\n",
              "    .dataframe tbody tr th:only-of-type {\n",
              "        vertical-align: middle;\n",
              "    }\n",
              "\n",
              "    .dataframe tbody tr th {\n",
              "        vertical-align: top;\n",
              "    }\n",
              "\n",
              "    .dataframe thead th {\n",
              "        text-align: right;\n",
              "    }\n",
              "</style>\n",
              "<table border=\"1\" class=\"dataframe\">\n",
              "  <thead>\n",
              "    <tr style=\"text-align: right;\">\n",
              "      <th></th>\n",
              "      <th>XGB_features</th>\n",
              "      <th>LGB_features</th>\n",
              "      <th>RF_features</th>\n",
              "      <th>CB_features</th>\n",
              "    </tr>\n",
              "  </thead>\n",
              "  <tbody>\n",
              "    <tr>\n",
              "      <th>cA</th>\n",
              "      <td>0.28</td>\n",
              "      <td>0.30</td>\n",
              "      <td>0.19</td>\n",
              "      <td>0.28</td>\n",
              "    </tr>\n",
              "    <tr>\n",
              "      <th>cD</th>\n",
              "      <td>0.17</td>\n",
              "      <td>0.12</td>\n",
              "      <td>0.13</td>\n",
              "      <td>0.14</td>\n",
              "    </tr>\n",
              "    <tr>\n",
              "      <th>Pixel_Value</th>\n",
              "      <td>0.14</td>\n",
              "      <td>0.10</td>\n",
              "      <td>0.08</td>\n",
              "      <td>0.07</td>\n",
              "    </tr>\n",
              "    <tr>\n",
              "      <th>cH</th>\n",
              "      <td>0.11</td>\n",
              "      <td>0.14</td>\n",
              "      <td>0.12</td>\n",
              "      <td>0.18</td>\n",
              "    </tr>\n",
              "    <tr>\n",
              "      <th>cV</th>\n",
              "      <td>0.10</td>\n",
              "      <td>0.13</td>\n",
              "      <td>0.12</td>\n",
              "      <td>0.17</td>\n",
              "    </tr>\n",
              "    <tr>\n",
              "      <th>magnitude_spectrum</th>\n",
              "      <td>0.06</td>\n",
              "      <td>0.08</td>\n",
              "      <td>0.12</td>\n",
              "      <td>0.07</td>\n",
              "    </tr>\n",
              "    <tr>\n",
              "      <th>real_part</th>\n",
              "      <td>0.06</td>\n",
              "      <td>0.06</td>\n",
              "      <td>0.12</td>\n",
              "      <td>0.04</td>\n",
              "    </tr>\n",
              "    <tr>\n",
              "      <th>imaginary_part</th>\n",
              "      <td>0.06</td>\n",
              "      <td>0.07</td>\n",
              "      <td>0.12</td>\n",
              "      <td>0.05</td>\n",
              "    </tr>\n",
              "  </tbody>\n",
              "</table>\n",
              "</div>\n",
              "      <button class=\"colab-df-convert\" onclick=\"convertToInteractive('df-2c526cdd-bc67-40b8-8e7d-27f2c9305388')\"\n",
              "              title=\"Convert this dataframe to an interactive table.\"\n",
              "              style=\"display:none;\">\n",
              "\n",
              "  <svg xmlns=\"http://www.w3.org/2000/svg\" height=\"24px\"viewBox=\"0 0 24 24\"\n",
              "       width=\"24px\">\n",
              "    <path d=\"M0 0h24v24H0V0z\" fill=\"none\"/>\n",
              "    <path d=\"M18.56 5.44l.94 2.06.94-2.06 2.06-.94-2.06-.94-.94-2.06-.94 2.06-2.06.94zm-11 1L8.5 8.5l.94-2.06 2.06-.94-2.06-.94L8.5 2.5l-.94 2.06-2.06.94zm10 10l.94 2.06.94-2.06 2.06-.94-2.06-.94-.94-2.06-.94 2.06-2.06.94z\"/><path d=\"M17.41 7.96l-1.37-1.37c-.4-.4-.92-.59-1.43-.59-.52 0-1.04.2-1.43.59L10.3 9.45l-7.72 7.72c-.78.78-.78 2.05 0 2.83L4 21.41c.39.39.9.59 1.41.59.51 0 1.02-.2 1.41-.59l7.78-7.78 2.81-2.81c.8-.78.8-2.07 0-2.86zM5.41 20L4 18.59l7.72-7.72 1.47 1.35L5.41 20z\"/>\n",
              "  </svg>\n",
              "      </button>\n",
              "\n",
              "\n",
              "\n",
              "    <div id=\"df-726f5cab-f45f-4560-a97f-72b5034932be\">\n",
              "      <button class=\"colab-df-quickchart\" onclick=\"quickchart('df-726f5cab-f45f-4560-a97f-72b5034932be')\"\n",
              "              title=\"Suggest charts.\"\n",
              "              style=\"display:none;\">\n",
              "\n",
              "<svg xmlns=\"http://www.w3.org/2000/svg\" height=\"24px\"viewBox=\"0 0 24 24\"\n",
              "     width=\"24px\">\n",
              "    <g>\n",
              "        <path d=\"M19 3H5c-1.1 0-2 .9-2 2v14c0 1.1.9 2 2 2h14c1.1 0 2-.9 2-2V5c0-1.1-.9-2-2-2zM9 17H7v-7h2v7zm4 0h-2V7h2v10zm4 0h-2v-4h2v4z\"/>\n",
              "    </g>\n",
              "</svg>\n",
              "      </button>\n",
              "    </div>\n",
              "\n",
              "<style>\n",
              "  .colab-df-quickchart {\n",
              "    background-color: #E8F0FE;\n",
              "    border: none;\n",
              "    border-radius: 50%;\n",
              "    cursor: pointer;\n",
              "    display: none;\n",
              "    fill: #1967D2;\n",
              "    height: 32px;\n",
              "    padding: 0 0 0 0;\n",
              "    width: 32px;\n",
              "  }\n",
              "\n",
              "  .colab-df-quickchart:hover {\n",
              "    background-color: #E2EBFA;\n",
              "    box-shadow: 0px 1px 2px rgba(60, 64, 67, 0.3), 0px 1px 3px 1px rgba(60, 64, 67, 0.15);\n",
              "    fill: #174EA6;\n",
              "  }\n",
              "\n",
              "  [theme=dark] .colab-df-quickchart {\n",
              "    background-color: #3B4455;\n",
              "    fill: #D2E3FC;\n",
              "  }\n",
              "\n",
              "  [theme=dark] .colab-df-quickchart:hover {\n",
              "    background-color: #434B5C;\n",
              "    box-shadow: 0px 1px 3px 1px rgba(0, 0, 0, 0.15);\n",
              "    filter: drop-shadow(0px 1px 2px rgba(0, 0, 0, 0.3));\n",
              "    fill: #FFFFFF;\n",
              "  }\n",
              "</style>\n",
              "\n",
              "    <script>\n",
              "      async function quickchart(key) {\n",
              "        const containerElement = document.querySelector('#' + key);\n",
              "        const charts = await google.colab.kernel.invokeFunction(\n",
              "            'suggestCharts', [key], {});\n",
              "      }\n",
              "    </script>\n",
              "\n",
              "      <script>\n",
              "\n",
              "function displayQuickchartButton(domScope) {\n",
              "  let quickchartButtonEl =\n",
              "    domScope.querySelector('#df-726f5cab-f45f-4560-a97f-72b5034932be button.colab-df-quickchart');\n",
              "  quickchartButtonEl.style.display =\n",
              "    google.colab.kernel.accessAllowed ? 'block' : 'none';\n",
              "}\n",
              "\n",
              "        displayQuickchartButton(document);\n",
              "      </script>\n",
              "      <style>\n",
              "    .colab-df-container {\n",
              "      display:flex;\n",
              "      flex-wrap:wrap;\n",
              "      gap: 12px;\n",
              "    }\n",
              "\n",
              "    .colab-df-convert {\n",
              "      background-color: #E8F0FE;\n",
              "      border: none;\n",
              "      border-radius: 50%;\n",
              "      cursor: pointer;\n",
              "      display: none;\n",
              "      fill: #1967D2;\n",
              "      height: 32px;\n",
              "      padding: 0 0 0 0;\n",
              "      width: 32px;\n",
              "    }\n",
              "\n",
              "    .colab-df-convert:hover {\n",
              "      background-color: #E2EBFA;\n",
              "      box-shadow: 0px 1px 2px rgba(60, 64, 67, 0.3), 0px 1px 3px 1px rgba(60, 64, 67, 0.15);\n",
              "      fill: #174EA6;\n",
              "    }\n",
              "\n",
              "    [theme=dark] .colab-df-convert {\n",
              "      background-color: #3B4455;\n",
              "      fill: #D2E3FC;\n",
              "    }\n",
              "\n",
              "    [theme=dark] .colab-df-convert:hover {\n",
              "      background-color: #434B5C;\n",
              "      box-shadow: 0px 1px 3px 1px rgba(0, 0, 0, 0.15);\n",
              "      filter: drop-shadow(0px 1px 2px rgba(0, 0, 0, 0.3));\n",
              "      fill: #FFFFFF;\n",
              "    }\n",
              "  </style>\n",
              "\n",
              "      <script>\n",
              "        const buttonEl =\n",
              "          document.querySelector('#df-2c526cdd-bc67-40b8-8e7d-27f2c9305388 button.colab-df-convert');\n",
              "        buttonEl.style.display =\n",
              "          google.colab.kernel.accessAllowed ? 'block' : 'none';\n",
              "\n",
              "        async function convertToInteractive(key) {\n",
              "          const element = document.querySelector('#df-2c526cdd-bc67-40b8-8e7d-27f2c9305388');\n",
              "          const dataTable =\n",
              "            await google.colab.kernel.invokeFunction('convertToInteractive',\n",
              "                                                     [key], {});\n",
              "          if (!dataTable) return;\n",
              "\n",
              "          const docLinkHtml = 'Like what you see? Visit the ' +\n",
              "            '<a target=\"_blank\" href=https://colab.research.google.com/notebooks/data_table.ipynb>data table notebook</a>'\n",
              "            + ' to learn more about interactive tables.';\n",
              "          element.innerHTML = '';\n",
              "          dataTable['output_type'] = 'display_data';\n",
              "          await google.colab.output.renderOutput(dataTable, element);\n",
              "          const docLink = document.createElement('div');\n",
              "          docLink.innerHTML = docLinkHtml;\n",
              "          element.appendChild(docLink);\n",
              "        }\n",
              "      </script>\n",
              "    </div>\n",
              "  </div>\n"
            ]
          },
          "metadata": {},
          "execution_count": 16
        }
      ]
    },
    {
      "cell_type": "code",
      "source": [
        "features_importantly1 = features_importantly.copy()"
      ],
      "metadata": {
        "id": "SK36lcmlaXUX"
      },
      "execution_count": null,
      "outputs": []
    },
    {
      "cell_type": "code",
      "source": [
        "features_importantly1['RF_features'] = features_importantly1['RF_features'] *18.04\n",
        "features_importantly1['XGB_features'] = features_importantly1['XGB_features']*14.52\n",
        "features_importantly1['LGB_features'] = features_importantly1['LGB_features']*14.68\n",
        "features_importantly1['CB_features'] = features_importantly1['CB_features'] * 16.54"
      ],
      "metadata": {
        "id": "K2J3VnKIZyjA"
      },
      "execution_count": null,
      "outputs": []
    },
    {
      "cell_type": "code",
      "source": [
        "features_importantly1.head()"
      ],
      "metadata": {
        "id": "ycV2XY0-Z6_s",
        "outputId": "a071d36b-2115-4cbb-afca-ac70fc121e3f",
        "colab": {
          "base_uri": "https://localhost:8080/",
          "height": 206
        }
      },
      "execution_count": null,
      "outputs": [
        {
          "output_type": "execute_result",
          "data": {
            "text/plain": [
              "             XGB_features  LGB_features  RF_features  CB_features\n",
              "cA              59.032512     64.650720    61.833904    76.600048\n",
              "cD              35.841168     25.860288    42.307408    38.300024\n",
              "Pixel_Value     29.516256     21.550240    26.035328    19.150012\n",
              "cH              23.191344     30.170336    39.052992    49.242888\n",
              "cV              21.083040     28.015312    39.052992    46.507172"
            ],
            "text/html": [
              "\n",
              "\n",
              "  <div id=\"df-38aafc89-6475-4502-97b3-aca4185a30e2\">\n",
              "    <div class=\"colab-df-container\">\n",
              "      <div>\n",
              "<style scoped>\n",
              "    .dataframe tbody tr th:only-of-type {\n",
              "        vertical-align: middle;\n",
              "    }\n",
              "\n",
              "    .dataframe tbody tr th {\n",
              "        vertical-align: top;\n",
              "    }\n",
              "\n",
              "    .dataframe thead th {\n",
              "        text-align: right;\n",
              "    }\n",
              "</style>\n",
              "<table border=\"1\" class=\"dataframe\">\n",
              "  <thead>\n",
              "    <tr style=\"text-align: right;\">\n",
              "      <th></th>\n",
              "      <th>XGB_features</th>\n",
              "      <th>LGB_features</th>\n",
              "      <th>RF_features</th>\n",
              "      <th>CB_features</th>\n",
              "    </tr>\n",
              "  </thead>\n",
              "  <tbody>\n",
              "    <tr>\n",
              "      <th>cA</th>\n",
              "      <td>59.032512</td>\n",
              "      <td>64.650720</td>\n",
              "      <td>61.833904</td>\n",
              "      <td>76.600048</td>\n",
              "    </tr>\n",
              "    <tr>\n",
              "      <th>cD</th>\n",
              "      <td>35.841168</td>\n",
              "      <td>25.860288</td>\n",
              "      <td>42.307408</td>\n",
              "      <td>38.300024</td>\n",
              "    </tr>\n",
              "    <tr>\n",
              "      <th>Pixel_Value</th>\n",
              "      <td>29.516256</td>\n",
              "      <td>21.550240</td>\n",
              "      <td>26.035328</td>\n",
              "      <td>19.150012</td>\n",
              "    </tr>\n",
              "    <tr>\n",
              "      <th>cH</th>\n",
              "      <td>23.191344</td>\n",
              "      <td>30.170336</td>\n",
              "      <td>39.052992</td>\n",
              "      <td>49.242888</td>\n",
              "    </tr>\n",
              "    <tr>\n",
              "      <th>cV</th>\n",
              "      <td>21.083040</td>\n",
              "      <td>28.015312</td>\n",
              "      <td>39.052992</td>\n",
              "      <td>46.507172</td>\n",
              "    </tr>\n",
              "  </tbody>\n",
              "</table>\n",
              "</div>\n",
              "      <button class=\"colab-df-convert\" onclick=\"convertToInteractive('df-38aafc89-6475-4502-97b3-aca4185a30e2')\"\n",
              "              title=\"Convert this dataframe to an interactive table.\"\n",
              "              style=\"display:none;\">\n",
              "\n",
              "  <svg xmlns=\"http://www.w3.org/2000/svg\" height=\"24px\"viewBox=\"0 0 24 24\"\n",
              "       width=\"24px\">\n",
              "    <path d=\"M0 0h24v24H0V0z\" fill=\"none\"/>\n",
              "    <path d=\"M18.56 5.44l.94 2.06.94-2.06 2.06-.94-2.06-.94-.94-2.06-.94 2.06-2.06.94zm-11 1L8.5 8.5l.94-2.06 2.06-.94-2.06-.94L8.5 2.5l-.94 2.06-2.06.94zm10 10l.94 2.06.94-2.06 2.06-.94-2.06-.94-.94-2.06-.94 2.06-2.06.94z\"/><path d=\"M17.41 7.96l-1.37-1.37c-.4-.4-.92-.59-1.43-.59-.52 0-1.04.2-1.43.59L10.3 9.45l-7.72 7.72c-.78.78-.78 2.05 0 2.83L4 21.41c.39.39.9.59 1.41.59.51 0 1.02-.2 1.41-.59l7.78-7.78 2.81-2.81c.8-.78.8-2.07 0-2.86zM5.41 20L4 18.59l7.72-7.72 1.47 1.35L5.41 20z\"/>\n",
              "  </svg>\n",
              "      </button>\n",
              "\n",
              "\n",
              "\n",
              "    <div id=\"df-7d434c87-093d-47a8-96ad-c72ddb9c4464\">\n",
              "      <button class=\"colab-df-quickchart\" onclick=\"quickchart('df-7d434c87-093d-47a8-96ad-c72ddb9c4464')\"\n",
              "              title=\"Suggest charts.\"\n",
              "              style=\"display:none;\">\n",
              "\n",
              "<svg xmlns=\"http://www.w3.org/2000/svg\" height=\"24px\"viewBox=\"0 0 24 24\"\n",
              "     width=\"24px\">\n",
              "    <g>\n",
              "        <path d=\"M19 3H5c-1.1 0-2 .9-2 2v14c0 1.1.9 2 2 2h14c1.1 0 2-.9 2-2V5c0-1.1-.9-2-2-2zM9 17H7v-7h2v7zm4 0h-2V7h2v10zm4 0h-2v-4h2v4z\"/>\n",
              "    </g>\n",
              "</svg>\n",
              "      </button>\n",
              "    </div>\n",
              "\n",
              "<style>\n",
              "  .colab-df-quickchart {\n",
              "    background-color: #E8F0FE;\n",
              "    border: none;\n",
              "    border-radius: 50%;\n",
              "    cursor: pointer;\n",
              "    display: none;\n",
              "    fill: #1967D2;\n",
              "    height: 32px;\n",
              "    padding: 0 0 0 0;\n",
              "    width: 32px;\n",
              "  }\n",
              "\n",
              "  .colab-df-quickchart:hover {\n",
              "    background-color: #E2EBFA;\n",
              "    box-shadow: 0px 1px 2px rgba(60, 64, 67, 0.3), 0px 1px 3px 1px rgba(60, 64, 67, 0.15);\n",
              "    fill: #174EA6;\n",
              "  }\n",
              "\n",
              "  [theme=dark] .colab-df-quickchart {\n",
              "    background-color: #3B4455;\n",
              "    fill: #D2E3FC;\n",
              "  }\n",
              "\n",
              "  [theme=dark] .colab-df-quickchart:hover {\n",
              "    background-color: #434B5C;\n",
              "    box-shadow: 0px 1px 3px 1px rgba(0, 0, 0, 0.15);\n",
              "    filter: drop-shadow(0px 1px 2px rgba(0, 0, 0, 0.3));\n",
              "    fill: #FFFFFF;\n",
              "  }\n",
              "</style>\n",
              "\n",
              "    <script>\n",
              "      async function quickchart(key) {\n",
              "        const containerElement = document.querySelector('#' + key);\n",
              "        const charts = await google.colab.kernel.invokeFunction(\n",
              "            'suggestCharts', [key], {});\n",
              "      }\n",
              "    </script>\n",
              "\n",
              "      <script>\n",
              "\n",
              "function displayQuickchartButton(domScope) {\n",
              "  let quickchartButtonEl =\n",
              "    domScope.querySelector('#df-7d434c87-093d-47a8-96ad-c72ddb9c4464 button.colab-df-quickchart');\n",
              "  quickchartButtonEl.style.display =\n",
              "    google.colab.kernel.accessAllowed ? 'block' : 'none';\n",
              "}\n",
              "\n",
              "        displayQuickchartButton(document);\n",
              "      </script>\n",
              "      <style>\n",
              "    .colab-df-container {\n",
              "      display:flex;\n",
              "      flex-wrap:wrap;\n",
              "      gap: 12px;\n",
              "    }\n",
              "\n",
              "    .colab-df-convert {\n",
              "      background-color: #E8F0FE;\n",
              "      border: none;\n",
              "      border-radius: 50%;\n",
              "      cursor: pointer;\n",
              "      display: none;\n",
              "      fill: #1967D2;\n",
              "      height: 32px;\n",
              "      padding: 0 0 0 0;\n",
              "      width: 32px;\n",
              "    }\n",
              "\n",
              "    .colab-df-convert:hover {\n",
              "      background-color: #E2EBFA;\n",
              "      box-shadow: 0px 1px 2px rgba(60, 64, 67, 0.3), 0px 1px 3px 1px rgba(60, 64, 67, 0.15);\n",
              "      fill: #174EA6;\n",
              "    }\n",
              "\n",
              "    [theme=dark] .colab-df-convert {\n",
              "      background-color: #3B4455;\n",
              "      fill: #D2E3FC;\n",
              "    }\n",
              "\n",
              "    [theme=dark] .colab-df-convert:hover {\n",
              "      background-color: #434B5C;\n",
              "      box-shadow: 0px 1px 3px 1px rgba(0, 0, 0, 0.15);\n",
              "      filter: drop-shadow(0px 1px 2px rgba(0, 0, 0, 0.3));\n",
              "      fill: #FFFFFF;\n",
              "    }\n",
              "  </style>\n",
              "\n",
              "      <script>\n",
              "        const buttonEl =\n",
              "          document.querySelector('#df-38aafc89-6475-4502-97b3-aca4185a30e2 button.colab-df-convert');\n",
              "        buttonEl.style.display =\n",
              "          google.colab.kernel.accessAllowed ? 'block' : 'none';\n",
              "\n",
              "        async function convertToInteractive(key) {\n",
              "          const element = document.querySelector('#df-38aafc89-6475-4502-97b3-aca4185a30e2');\n",
              "          const dataTable =\n",
              "            await google.colab.kernel.invokeFunction('convertToInteractive',\n",
              "                                                     [key], {});\n",
              "          if (!dataTable) return;\n",
              "\n",
              "          const docLinkHtml = 'Like what you see? Visit the ' +\n",
              "            '<a target=\"_blank\" href=https://colab.research.google.com/notebooks/data_table.ipynb>data table notebook</a>'\n",
              "            + ' to learn more about interactive tables.';\n",
              "          element.innerHTML = '';\n",
              "          dataTable['output_type'] = 'display_data';\n",
              "          await google.colab.output.renderOutput(dataTable, element);\n",
              "          const docLink = document.createElement('div');\n",
              "          docLink.innerHTML = docLinkHtml;\n",
              "          element.appendChild(docLink);\n",
              "        }\n",
              "      </script>\n",
              "    </div>\n",
              "  </div>\n"
            ]
          },
          "metadata": {},
          "execution_count": 26
        }
      ]
    },
    {
      "cell_type": "code",
      "source": [
        "features_important = features_importantly1.sum(axis = 1)"
      ],
      "metadata": {
        "id": "dA6zdyRJa4m4"
      },
      "execution_count": null,
      "outputs": []
    },
    {
      "cell_type": "code",
      "source": [
        "features_important.sort_values(ascending\n",
        "                              = False)"
      ],
      "metadata": {
        "colab": {
          "base_uri": "https://localhost:8080/"
        },
        "id": "whPCKx0hbDmA",
        "outputId": "ed3075e4-42e1-4057-f164-cbd4673ffe64"
      },
      "execution_count": null,
      "outputs": [
        {
          "output_type": "execute_result",
          "data": {
            "text/plain": [
              "cA                    16.5284\n",
              "cD                     8.8908\n",
              "cH                     8.7944\n",
              "cV                     8.3370\n",
              "Pixel_Value            6.1018\n",
              "magnitude_spectrum     5.3682\n",
              "imaginary_part         4.8906\n",
              "real_part              4.5784\n",
              "dtype: float64"
            ]
          },
          "metadata": {},
          "execution_count": 23
        }
      ]
    },
    {
      "cell_type": "markdown",
      "source": [
        "#Test pridiction's output"
      ],
      "metadata": {
        "id": "5JF5fu-xUdup"
      }
    },
    {
      "cell_type": "code",
      "source": [
        "def one_sample_feature_extractor (image):\n",
        "  input_img = cv2.imread(image)  # Read images\n",
        "  img = cv2.cvtColor(input_img, cv2.COLOR_BGR2GRAY)\n",
        "  img = cv2.resize(img, (210, 210))\n",
        "\n",
        "  df= pd.DataFrame()\n",
        "  '''pixel_values = img.reshape(-1)/255.0\n",
        "  df['Pixel_Value'] = pd.DataFrame(pixel_values)'''   #Pixel value itself as a feature\n",
        "  #Defining the desired filter (feature).\n",
        "  edge_roberts = roberts(img)\n",
        "  edge_roberts1 = edge_roberts.reshape(-1)\n",
        "  df['Roberts'] = pd.DataFrame(edge_roberts1)\n",
        "\n",
        "  '''# SOBEL\n",
        "  edge_sobel = sobel(img)\n",
        "  edge_sobel1 = edge_sobel.reshape(-1)\n",
        "  df['Sobel'] = pd.DataFrame(edge_sobel1)\n",
        "\n",
        "  # VARIANCE with size=3\n",
        "  variance_img = nd.generic_filter(img, np.var, size=3)\n",
        "  edge_variance = variance_img.reshape(-1)/255.0\n",
        "  df['variance'] = pd.DataFrame(edge_variance)'''\n",
        "\n",
        "  # GAUSSIAN with sigma=3\n",
        "  gaussian_img = nd.gaussian_filter(img, sigma=3)\n",
        "  gaussian_img1 = gaussian_img.reshape(-1)/255.0\n",
        "  df['Gaussian3'] = pd.DataFrame(gaussian_img1)\n",
        "\n",
        "  # SCHARR\n",
        "  edge_scharr = scharr(img)\n",
        "  edge_scharr1 = edge_scharr.reshape(-1)\n",
        "  df['Scharr'] = pd.DataFrame(edge_scharr1)\n",
        "\n",
        "  # PREWITT\n",
        "  edge_prewitt = prewitt(img)\n",
        "  edge_prewitt1 = edge_prewitt.reshape(-1)\n",
        "  df['Prewitt'] = pd.DataFrame(edge_prewitt1)\n",
        "\n",
        "  '''# MEDIAN with sigma=3\n",
        "  median_img = nd.median_filter(img, size=3)\n",
        "  median_img1 = median_img.reshape(-1)/255.0\n",
        "  df['Median3'] = pd.DataFrame(median_img1)\n",
        "\n",
        "  # CANNY EDGE\n",
        "  edges = cv2.Canny(img, 100, 200)  # Image, min and max values\n",
        "  edges1 = edges.reshape(-1)/255.0\n",
        "  df['Canny_Edge'] = pd.DataFrame(edges1)'''\n",
        "  return df"
      ],
      "metadata": {
        "id": "d5waIk-BVdT4"
      },
      "execution_count": null,
      "outputs": []
    },
    {
      "cell_type": "code",
      "source": [
        "test = one_sample_feature_extractor(test_path + 'crack6.png')\n",
        "predicted = RF_model.predict(test)\n",
        "predicted = predicted.reshape((210,210))*255.0\n",
        "from google.colab.patches import cv2_imshow\n",
        "cv2_imshow(predicted)\n",
        "print('\\n')\n",
        "from google.colab.patches import cv2_imshow\n",
        "mask = cv2.imread(mask_path + 'crack6.png')\n",
        "mask = cv2.cvtColor(mask, cv2.COLOR_BGR2GRAY)\n",
        "ret,bi_mask = cv2.threshold(mask,192,255,cv2.THRESH_BINARY)\n",
        "mask = cv2.resize(bi_mask, (210, 210))\n",
        "cv2_imshow(mask)\n"
      ],
      "metadata": {
        "id": "o3bqq9l3Z8Zf"
      },
      "execution_count": null,
      "outputs": []
    },
    {
      "cell_type": "code",
      "source": [
        "test = one_sample_feature_extractor(test_path + 'oil2.png')\n",
        "predicted = RF_model.predict(test)\n",
        "predicted = predicted.reshape((210,210))*255.0\n",
        "from google.colab.patches import cv2_imshow\n",
        "cv2_imshow(predicted)\n",
        "print('\\n')\n",
        "from google.colab.patches import cv2_imshow\n",
        "mask = cv2.imread(mask_path + 'oil2.png')\n",
        "mask = cv2.cvtColor(mask, cv2.COLOR_BGR2GRAY)\n",
        "ret,bi_mask = cv2.threshold(mask,192,255,cv2.THRESH_BINARY)\n",
        "mask = cv2.resize(bi_mask, (210, 210))\n",
        "cv2_imshow(mask)"
      ],
      "metadata": {
        "id": "B83Y1sBWuAaA"
      },
      "execution_count": null,
      "outputs": []
    },
    {
      "cell_type": "code",
      "source": [
        "test = one_sample_feature_extractor(test_path + 'glue_strip17.png')\n",
        "predicted = RF_model.predict(test)\n",
        "predicted = predicted.reshape((210,210))*255.0\n",
        "from google.colab.patches import cv2_imshow\n",
        "cv2_imshow(predicted)\n",
        "print('\\n')\n",
        "from google.colab.patches import cv2_imshow\n",
        "mask = cv2.imread(mask_path + 'glue_strip17.png')\n",
        "mask = cv2.cvtColor(mask, cv2.COLOR_BGR2GRAY)\n",
        "ret,bi_mask = cv2.threshold(mask,192,255,cv2.THRESH_BINARY)\n",
        "mask = cv2.resize(bi_mask, (210, 210))\n",
        "cv2_imshow(mask)"
      ],
      "metadata": {
        "id": "FPNKOKGWSGyw"
      },
      "execution_count": null,
      "outputs": []
    },
    {
      "cell_type": "code",
      "source": [
        "test = one_sample_feature_extractor(test_path + 'gray_stroke6.png')\n",
        "predicted = RF_model.predict(test)\n",
        "predicted = predicted.reshape((210,210))*255.0\n",
        "from google.colab.patches import cv2_imshow\n",
        "cv2_imshow(predicted)\n",
        "print('\\n')\n",
        "from google.colab.patches import cv2_imshow\n",
        "mask = cv2.imread(mask_path + 'gray_stroke6.png')\n",
        "mask = cv2.cvtColor(mask, cv2.COLOR_BGR2GRAY)\n",
        "ret,bi_mask = cv2.threshold(mask,192,255,cv2.THRESH_BINARY)\n",
        "mask = cv2.resize(bi_mask, (210, 210))\n",
        "cv2_imshow(mask)"
      ],
      "metadata": {
        "id": "2ahU9FHCSKOB"
      },
      "execution_count": null,
      "outputs": []
    },
    {
      "cell_type": "code",
      "source": [
        "test = one_sample_feature_extractor(test_path + 'rough11.png')\n",
        "predicted = RF_model.predict(test)\n",
        "predicted = predicted.reshape((210,210))*255.0\n",
        "from google.colab.patches import cv2_imshow\n",
        "cv2_imshow(predicted)\n",
        "print('\\n')\n",
        "from google.colab.patches import cv2_imshow\n",
        "mask = cv2.imread(mask_path + 'rough11.png')\n",
        "mask = cv2.cvtColor(mask, cv2.COLOR_BGR2GRAY)\n",
        "ret,bi_mask = cv2.threshold(mask,192,255,cv2.THRESH_BINARY)\n",
        "mask = cv2.resize(bi_mask, (210, 210))\n",
        "cv2_imshow(mask)"
      ],
      "metadata": {
        "id": "EAoP14BLSOqe"
      },
      "execution_count": null,
      "outputs": []
    },
    {
      "cell_type": "markdown",
      "source": [
        "#Model evaluation on each type of defects"
      ],
      "metadata": {
        "id": "CwGGQe9NQrre"
      }
    },
    {
      "cell_type": "markdown",
      "source": [
        "##Crack test"
      ],
      "metadata": {
        "id": "lD0Mc89WbmSs"
      }
    },
    {
      "cell_type": "code",
      "source": [
        "Crack_test_data = feature_extractor('/content/drive/MyDrive/Colab Notebooks/crac_test/',mask_path)\n",
        "Crack_test = Crack_test_data.drop(labels =['label'], axis=1)\n",
        "y_label = Crack_test_data['label'].values\n",
        "\n",
        "predict1 = RF_model.predict(Crack_test)\n",
        "print (\"Accuracy RF_model = \", metrics.accuracy_score(y_label, predict1))\n",
        "print (\"Precision RF_model = \", metrics.precision_score(y_label, predict1))\n",
        "print (\"Recall RF_model = \", metrics.recall_score(y_label, predict1))\n",
        "print (\"F1 Score RF_model = \", metrics.f1_score(y_label, predict1),\"\\n\")\n",
        "#Confusion matrix plotting\n",
        "confusion_matrix = metrics.confusion_matrix(y_label, predict1)\n",
        "cm_display = metrics.ConfusionMatrixDisplay(confusion_matrix = confusion_matrix, display_labels = [False, True])\n",
        "cm_display.plot()\n",
        "plt.show()\n",
        "#AUC curve plotting\n",
        "fpr, tpr, _ = metrics.roc_curve(y_label,  predict1)\n",
        "auc = metrics.roc_auc_score(y_label, predict1)\n",
        "plt.plot(fpr,tpr,label=\"AUC=\"+str(auc))\n",
        "plt.ylabel('True Positive Rate')\n",
        "plt.xlabel('False Positive Rate')\n",
        "plt.legend(loc=4)\n",
        "plt.show()\n",
        "#Precision - Recall curve plotting\n",
        "display = PrecisionRecallDisplay.from_estimator(\n",
        "  RF_model, Crack_test, y_label, name=\"RF_model\")\n",
        "_ = display.ax_.set_title(\"2-class Precision-Recall curve\")"
      ],
      "metadata": {
        "id": "8dsWvnx3XoAd"
      },
      "execution_count": null,
      "outputs": []
    },
    {
      "cell_type": "markdown",
      "source": [
        "##Glue_strip test"
      ],
      "metadata": {
        "id": "m0EwIEJncZPV"
      }
    },
    {
      "cell_type": "code",
      "source": [
        "Glue_strip_test_data = feature_extractor('/content/drive/MyDrive/Colab Notebooks/glue_strip_test/',mask_path)\n",
        "Glue_strip_test = Glue_strip_test_data.drop(labels =['label'], axis=1)\n",
        "y_label = Glue_strip_test_data['label'].values\n",
        "\n",
        "predict1 = RF_model.predict(Glue_strip_test)\n",
        "print (\"Accuracy RF_model = \", metrics.accuracy_score(y_label, predict1))\n",
        "print (\"Precision RF_model = \", metrics.precision_score(y_label, predict1))\n",
        "print (\"Recall RF_model = \", metrics.recall_score(y_label, predict1))\n",
        "print (\"F1 Score RF_model = \", metrics.f1_score(y_label, predict1),\"\\n\")\n",
        "#Confusion matrix plotting\n",
        "confusion_matrix = metrics.confusion_matrix(y_label, predict1)\n",
        "cm_display = metrics.ConfusionMatrixDisplay(confusion_matrix = confusion_matrix, display_labels = [False, True])\n",
        "cm_display.plot()\n",
        "plt.show()\n",
        "#AUC curve plotting\n",
        "fpr, tpr, _ = metrics.roc_curve(y_label,  predict1)\n",
        "auc = metrics.roc_auc_score(y_label, predict1)\n",
        "plt.plot(fpr,tpr,label=\"AUC=\"+str(auc))\n",
        "plt.ylabel('True Positive Rate')\n",
        "plt.xlabel('False Positive Rate')\n",
        "plt.legend(loc=4)\n",
        "plt.show()\n",
        "#Precision - Recall curve plotting\n",
        "display = PrecisionRecallDisplay.from_estimator(\n",
        "  RF_model, Glue_strip_test, y_label, name=\"RF_model\")\n",
        "_ = display.ax_.set_title(\"2-class Precision-Recall curve\")"
      ],
      "metadata": {
        "id": "RO7AmxX1UoN2"
      },
      "execution_count": null,
      "outputs": []
    },
    {
      "cell_type": "markdown",
      "source": [
        "##Gray_stroke test"
      ],
      "metadata": {
        "id": "2BX6BSAycrsM"
      }
    },
    {
      "cell_type": "code",
      "source": [
        "Gray_stroke_test_data = feature_extractor('/content/drive/MyDrive/Colab Notebooks/gray_stroke_test/',mask_path)\n",
        "Gray_stroke_test = Gray_stroke_test_data.drop(labels =['label'], axis=1)\n",
        "y_label = Gray_stroke_test_data['label'].values\n",
        "\n",
        "predict1 = RF_model.predict(Gray_stroke_test)\n",
        "print (\"Accuracy RF_model = \", metrics.accuracy_score(y_label, predict1))\n",
        "print (\"Precision RF_model = \", metrics.precision_score(y_label, predict1))\n",
        "print (\"Recall RF_model = \", metrics.recall_score(y_label, predict1))\n",
        "print (\"F1 Score RF_model = \", metrics.f1_score(y_label, predict1),\"\\n\")\n",
        "#Confusion matrix plotting\n",
        "confusion_matrix = metrics.confusion_matrix(y_label, predict1)\n",
        "cm_display = metrics.ConfusionMatrixDisplay(confusion_matrix = confusion_matrix, display_labels = [False, True])\n",
        "cm_display.plot()\n",
        "plt.show()\n",
        "#AUC curve plotting\n",
        "fpr, tpr, _ = metrics.roc_curve(y_label,  predict1)\n",
        "auc = metrics.roc_auc_score(y_label, predict1)\n",
        "plt.plot(fpr,tpr,label=\"AUC=\"+str(auc))\n",
        "plt.ylabel('True Positive Rate')\n",
        "plt.xlabel('False Positive Rate')\n",
        "plt.legend(loc=4)\n",
        "plt.show()\n",
        "#Precision - Recall curve plotting\n",
        "display = PrecisionRecallDisplay.from_estimator(\n",
        "  RF_model, Gray_stroke_test, y_label, name=\"RF_model\")\n",
        "_ = display.ax_.set_title(\"2-class Precision-Recall curve\")"
      ],
      "metadata": {
        "id": "5-BoOg8Uc0Yj"
      },
      "execution_count": null,
      "outputs": []
    },
    {
      "cell_type": "markdown",
      "source": [
        "##Oil test"
      ],
      "metadata": {
        "id": "a9ENouTDc6DL"
      }
    },
    {
      "cell_type": "code",
      "source": [
        "Oil_test_data = feature_extractor('/content/drive/MyDrive/Colab Notebooks/oil_test/',mask_path)\n",
        "Oil_test = Oil_test_data.drop(labels =['label'], axis=1)\n",
        "y_label = Oil_test_data['label'].values\n",
        "\n",
        "predict1 = RF_model.predict(Oil_test)\n",
        "print (\"Accuracy RF_model = \", metrics.accuracy_score(y_label, predict1))\n",
        "print (\"Precision RF_model = \", metrics.precision_score(y_label, predict1))\n",
        "print (\"Recall RF_model = \", metrics.recall_score(y_label, predict1))\n",
        "print (\"F1 Score RF_model = \", metrics.f1_score(y_label, predict1),\"\\n\")\n",
        "#Confusion matrix plotting\n",
        "confusion_matrix = metrics.confusion_matrix(y_label, predict1)\n",
        "cm_display = metrics.ConfusionMatrixDisplay(confusion_matrix = confusion_matrix, display_labels = [False, True])\n",
        "cm_display.plot()\n",
        "plt.show()\n",
        "#AUC curve plotting\n",
        "fpr, tpr, _ = metrics.roc_curve(y_label,  predict1)\n",
        "auc = metrics.roc_auc_score(y_label, predict1)\n",
        "plt.plot(fpr,tpr,label=\"AUC=\"+str(auc))\n",
        "plt.ylabel('True Positive Rate')\n",
        "plt.xlabel('False Positive Rate')\n",
        "plt.legend(loc=4)\n",
        "plt.show()\n",
        "#Precision - Recall curve plotting\n",
        "display = PrecisionRecallDisplay.from_estimator(\n",
        "  RF_model, Oil_test, y_label, name=\"RF_model\")\n",
        "_ = display.ax_.set_title(\"2-class Precision-Recall curve\")"
      ],
      "metadata": {
        "id": "injOG4hpdAx9"
      },
      "execution_count": null,
      "outputs": []
    },
    {
      "cell_type": "markdown",
      "source": [
        "##Rough test"
      ],
      "metadata": {
        "id": "SogPp7r7dFtz"
      }
    },
    {
      "cell_type": "code",
      "source": [
        "Rough_test_data = feature_extractor('/content/drive/MyDrive/Colab Notebooks/rough_test/',mask_path)\n",
        "Rough_test = Rough_test_data.drop(labels =['label'], axis=1)\n",
        "y_label = Rough_test_data['label'].values\n",
        "\n",
        "predict1 = RF_model.predict(Rough_test)\n",
        "print (\"Accuracy RF_model = \", metrics.accuracy_score(y_label, predict1))\n",
        "print (\"Precision RF_model = \", metrics.precision_score(y_label, predict1))\n",
        "print (\"Recall RF_model = \", metrics.recall_score(y_label, predict1))\n",
        "print (\"F1 Score RF_model = \", metrics.f1_score(y_label, predict1),\"\\n\")\n",
        "#Confusion matrix plotting\n",
        "confusion_matrix = metrics.confusion_matrix(y_label, predict1)\n",
        "cm_display = metrics.ConfusionMatrixDisplay(confusion_matrix = confusion_matrix, display_labels = [False, True])\n",
        "cm_display.plot()\n",
        "plt.show()\n",
        "#AUC curve plotting\n",
        "fpr, tpr, _ = metrics.roc_curve(y_label,  predict1)\n",
        "auc = metrics.roc_auc_score(y_label, predict1)\n",
        "plt.plot(fpr,tpr,label=\"AUC=\"+str(auc))\n",
        "plt.ylabel('True Positive Rate')\n",
        "plt.xlabel('False Positive Rate')\n",
        "plt.legend(loc=4)\n",
        "plt.show()\n",
        "#Precision - Recall curve plotting\n",
        "display = PrecisionRecallDisplay.from_estimator(\n",
        "  RF_model, Rough_test, y_label, name=\"RF_model\")\n",
        "_ = display.ax_.set_title(\"2-class Precision-Recall curve\")"
      ],
      "metadata": {
        "id": "A76plmjLdEw8"
      },
      "execution_count": null,
      "outputs": []
    },
    {
      "cell_type": "code",
      "source": [
        "from yellowbrick.classifier import ROCAUC\n",
        "print(\"Classes in the image are: \", np.unique(y_train))\n",
        "\n",
        "#ROC curve for RF\n",
        "roc_auc=ROCAUC(RF_model, classes=np.unique(y_train))  #Create object\n",
        "roc_auc.fit(X_train, y_train)\n",
        "roc_auc.score(X_test, y_test)\n",
        "roc_auc.show()"
      ],
      "metadata": {
        "id": "e5GJC99LY0Ow"
      },
      "execution_count": null,
      "outputs": []
    }
  ]
}